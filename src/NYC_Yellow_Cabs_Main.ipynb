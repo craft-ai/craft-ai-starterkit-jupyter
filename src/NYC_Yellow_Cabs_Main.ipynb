{
 "cells": [
  {
   "cell_type": "markdown",
   "metadata": {},
   "source": [
    "# NYC Yellow cab dataset -- Main\n",
    "\n",
    "\n",
    "This notebook aims at giving to the user a `craftai.pandas` use case.\n",
    "\n",
    "This use case is based on the dataset `yellow.csv` located in the directory _data/_. (It is possible to regenerate this dataset by using the notebook `NYC_Yellow_Cabs_Preprocessing.ipynb`.)\n",
    "\n",
    "`yellow.csv` has been extracted from the data available on the ___NYC Taxi and Limousine Commission (LTC)___ [webpage](http://www.nyc.gov/html/tlc/html/about/trip_record_data.shtml)."
   ]
  },
  {
   "cell_type": "code",
   "execution_count": 1,
   "metadata": {},
   "outputs": [],
   "source": [
    "import pandas as pd\n",
    "import numpy as np\n",
    "import craftai.pandas\n",
    "import os\n",
    "from time import time\n",
    "from multiprocessing import Pool"
   ]
  },
  {
   "cell_type": "markdown",
   "metadata": {},
   "source": [
    "## Load Data"
   ]
  },
  {
   "cell_type": "code",
   "execution_count": 2,
   "metadata": {},
   "outputs": [],
   "source": [
    "PATH = 'data/'"
   ]
  },
  {
   "cell_type": "code",
   "execution_count": 3,
   "metadata": {},
   "outputs": [],
   "source": [
    "yellow = pd.read_csv(PATH + 'yellow.csv')\n",
    "\n",
    "yellow.pickup_datetime = pd.to_datetime(yellow.pickup_datetime, utc=True)\n",
    "yellow.set_index('pickup_datetime', drop=True, inplace=True)\n",
    "\n",
    "yellow.index = yellow.index.tz_convert('America/New_York')"
   ]
  },
  {
   "cell_type": "code",
   "execution_count": 4,
   "metadata": {},
   "outputs": [
    {
     "data": {
      "text/html": [
       "<div>\n",
       "<style scoped>\n",
       "    .dataframe tbody tr th:only-of-type {\n",
       "        vertical-align: middle;\n",
       "    }\n",
       "\n",
       "    .dataframe tbody tr th {\n",
       "        vertical-align: top;\n",
       "    }\n",
       "\n",
       "    .dataframe thead th {\n",
       "        text-align: right;\n",
       "    }\n",
       "</style>\n",
       "<table border=\"1\" class=\"dataframe\">\n",
       "  <thead>\n",
       "    <tr style=\"text-align: right;\">\n",
       "      <th></th>\n",
       "      <th>taxi_zone</th>\n",
       "      <th>trip_counter</th>\n",
       "      <th>timezone</th>\n",
       "    </tr>\n",
       "    <tr>\n",
       "      <th>pickup_datetime</th>\n",
       "      <th></th>\n",
       "      <th></th>\n",
       "      <th></th>\n",
       "    </tr>\n",
       "  </thead>\n",
       "  <tbody>\n",
       "    <tr>\n",
       "      <th>2017-01-01 00:00:00-05:00</th>\n",
       "      <td>1</td>\n",
       "      <td>2.0</td>\n",
       "      <td>-05:00</td>\n",
       "    </tr>\n",
       "    <tr>\n",
       "      <th>2017-01-01 00:00:00-05:00</th>\n",
       "      <td>4</td>\n",
       "      <td>54.0</td>\n",
       "      <td>-05:00</td>\n",
       "    </tr>\n",
       "    <tr>\n",
       "      <th>2017-01-01 00:00:00-05:00</th>\n",
       "      <td>7</td>\n",
       "      <td>66.0</td>\n",
       "      <td>-05:00</td>\n",
       "    </tr>\n",
       "    <tr>\n",
       "      <th>2017-01-01 00:00:00-05:00</th>\n",
       "      <td>10</td>\n",
       "      <td>1.0</td>\n",
       "      <td>-05:00</td>\n",
       "    </tr>\n",
       "    <tr>\n",
       "      <th>2017-01-01 00:00:00-05:00</th>\n",
       "      <td>12</td>\n",
       "      <td>3.0</td>\n",
       "      <td>-05:00</td>\n",
       "    </tr>\n",
       "  </tbody>\n",
       "</table>\n",
       "</div>"
      ],
      "text/plain": [
       "                           taxi_zone  trip_counter timezone\n",
       "pickup_datetime                                            \n",
       "2017-01-01 00:00:00-05:00          1           2.0   -05:00\n",
       "2017-01-01 00:00:00-05:00          4          54.0   -05:00\n",
       "2017-01-01 00:00:00-05:00          7          66.0   -05:00\n",
       "2017-01-01 00:00:00-05:00         10           1.0   -05:00\n",
       "2017-01-01 00:00:00-05:00         12           3.0   -05:00"
      ]
     },
     "execution_count": 4,
     "metadata": {},
     "output_type": "execute_result"
    }
   ],
   "source": [
    "yellow.head()"
   ]
  },
  {
   "cell_type": "markdown",
   "metadata": {},
   "source": [
    "## Focus on Bronx areas\n",
    "\n",
    "<img src=\"http://www.nyc.gov/html/tlc/images/features/taxi_zone_map_bronx.jpg\" title=\"Bronx Taxi Zones\" alt=\"Bronx Taxi Zones\" style=\"width: 300px;\"/>\n",
    "\n",
    "To gain computation time, we only focus on 5 of the 43 Bronx taxi zones.\n",
    "\n",
    "The selected taxi zones are the following: $126$, $147$, $159$, $168$, $247$.\n",
    "\n",
    "__If you want to compute all the taxi zones, skip the following cell.__"
   ]
  },
  {
   "cell_type": "code",
   "execution_count": 5,
   "metadata": {},
   "outputs": [],
   "source": [
    "nyc_zones = pd.read_csv('data/taxi_zone_lookup.csv', usecols=['LocationID', 'Borough'])\n",
    "bronx_zones = nyc_zones[nyc_zones.Borough == 'Bronx'].LocationID.unique()\n",
    "\n",
    "selected_zones = [z for z in bronx_zones if z in [126, 147, 159, 168, 247]]\n",
    "\n",
    "# filter yellow by staten island zones\n",
    "yellow = yellow[yellow.taxi_zone.isin(selected_zones)]"
   ]
  },
  {
   "cell_type": "markdown",
   "metadata": {},
   "source": [
    "## Build Agent Datasets"
   ]
  },
  {
   "cell_type": "code",
   "execution_count": 6,
   "metadata": {},
   "outputs": [],
   "source": [
    "TIME_INDEX = pd.date_range(\"2017-01-01 00:00\", \"2017-12-31 23:00\", freq=\"h\", tz='America/New_York')\n",
    "\n",
    "def build_agent_df(taxi_zone):\n",
    "    trips = []\n",
    "    data = yellow[yellow.taxi_zone == taxi_zone]\n",
    "    for t in TIME_INDEX:\n",
    "        if t in data.index:\n",
    "            trips.append(data.trip_counter[data.index == t].values[0])\n",
    "        else:\n",
    "            trips.append(0)\n",
    "    print('--| Zone', taxi_zone, 'computed')\n",
    "    agent_id = \"taxi_zone_{:0>3}\".format(taxi_zone)\n",
    "    return agent_id, {'data': pd.DataFrame(data={'trip_counter':trips, 'timezone':'-05:00'}, index=TIME_INDEX)}"
   ]
  },
  {
   "cell_type": "code",
   "execution_count": 7,
   "metadata": {
    "scrolled": true
   },
   "outputs": [
    {
     "name": "stdout",
     "output_type": "stream",
     "text": [
      "--| Zone 147 computed\n",
      "--| Zone 126 computed\n",
      "--| Zone 159 computed\n",
      "--| Zone 247 computed\n",
      "--| Zone 168 computed\n",
      "CPU times: user 48.8 ms, sys: 79.6 ms, total: 128 ms\n",
      "Wall time: 3.46 s\n"
     ]
    }
   ],
   "source": [
    "%%time \n",
    "\n",
    "p = Pool(10)\n",
    "full = dict(p.map(build_agent_df, yellow.taxi_zone.unique()))\n",
    "\n",
    "agent_ids = full.keys() "
   ]
  },
  {
   "cell_type": "markdown",
   "metadata": {},
   "source": [
    "for k in sorted(agent_ids):\n",
    "    print(k)\n",
    "    print(full[k]['data'].head())\n",
    "    print('\\n\\n')"
   ]
  },
  {
   "cell_type": "markdown",
   "metadata": {},
   "source": [
    "## 2. Connect to craftai api\n"
   ]
  },
  {
   "cell_type": "code",
   "execution_count": 8,
   "metadata": {},
   "outputs": [],
   "source": [
    "client = craftai.pandas.Client({\n",
    "  \"token\": os.environ.get(\"CRAFT_TOKEN\")\n",
    "})"
   ]
  },
  {
   "cell_type": "markdown",
   "metadata": {},
   "source": [
    "## 3. Create agents\n"
   ]
  },
  {
   "cell_type": "code",
   "execution_count": 9,
   "metadata": {},
   "outputs": [],
   "source": [
    "CONFIGURATION = {\n",
    "    \"context\": {\n",
    "        \"month_of_year\": {\n",
    "            \"type\" : \"month_of_year\"\n",
    "        },\n",
    "        \"day_of_week\": {                  \n",
    "            \"type\" : \"day_of_week\"\n",
    "        },\n",
    "        \"time\": {                    \n",
    "            \"type\": \"time_of_day\"\n",
    "        },\n",
    "        \"timezone\": {                       \n",
    "            \"type\" : \"timezone\",\n",
    "        },\n",
    "        \"trip_counter\": {                          \n",
    "            \"type\": \"continuous\"\n",
    "        }\n",
    "    },\n",
    "    \"output\": [\"trip_counter\"],                    # the output is continuous\n",
    "}\n",
    "\n",
    "def create_agent(agent_id):\n",
    "    # Delete older version of the agent\n",
    "    client.delete_agent(agent_id)\n",
    "\n",
    "    # Add the new agent\n",
    "    agent = client.create_agent(CONFIGURATION, agent_id)\n",
    "    full[agent_id]['agent'] = agent\n",
    "    print(\"Agent\", agent[\"id\"], \"has successfully been created\")\n",
    "    "
   ]
  },
  {
   "cell_type": "markdown",
   "metadata": {},
   "source": [
    "### Create Agents"
   ]
  },
  {
   "cell_type": "code",
   "execution_count": 10,
   "metadata": {},
   "outputs": [
    {
     "name": "stdout",
     "output_type": "stream",
     "text": [
      "Agent taxi_zone_126 has successfully been created\n",
      "Agent taxi_zone_147 has successfully been created\n",
      "Agent taxi_zone_159 has successfully been created\n",
      "Agent taxi_zone_168 has successfully been created\n",
      "Agent taxi_zone_247 has successfully been created\n",
      "CPU times: user 71.5 ms, sys: 24 ms, total: 95.5 ms\n",
      "Wall time: 894 ms\n"
     ]
    },
    {
     "data": {
      "text/plain": [
       "False"
      ]
     },
     "execution_count": 10,
     "metadata": {},
     "output_type": "execute_result"
    }
   ],
   "source": [
    "%%time\n",
    "\n",
    "any(map(create_agent, agent_ids))"
   ]
  },
  {
   "cell_type": "markdown",
   "metadata": {},
   "source": [
    "## 4. Add Agent operations"
   ]
  },
  {
   "cell_type": "code",
   "execution_count": 11,
   "metadata": {},
   "outputs": [],
   "source": [
    "def add_operations(agent_id):\n",
    "    print(client.add_operations(agent_id, full[agent_id]['data'])['message'])\n",
    "    "
   ]
  },
  {
   "cell_type": "code",
   "execution_count": 12,
   "metadata": {},
   "outputs": [
    {
     "name": "stdout",
     "output_type": "stream",
     "text": [
      "Successfully added 8760 operation(s) to the agent \"yrieix.leprince/NYC-taxi/taxi_zone_126\" context.\n",
      "Successfully added 8760 operation(s) to the agent \"yrieix.leprince/NYC-taxi/taxi_zone_147\" context.\n",
      "Successfully added 8760 operation(s) to the agent \"yrieix.leprince/NYC-taxi/taxi_zone_159\" context.\n",
      "Successfully added 8760 operation(s) to the agent \"yrieix.leprince/NYC-taxi/taxi_zone_168\" context.\n",
      "Successfully added 8760 operation(s) to the agent \"yrieix.leprince/NYC-taxi/taxi_zone_247\" context.\n",
      "CPU times: user 8.11 s, sys: 37.4 ms, total: 8.14 s\n",
      "Wall time: 15 s\n"
     ]
    },
    {
     "data": {
      "text/plain": [
       "False"
      ]
     },
     "execution_count": 12,
     "metadata": {},
     "output_type": "execute_result"
    }
   ],
   "source": [
    "%%time\n",
    "\n",
    "any(map(add_operations, agent_ids))"
   ]
  },
  {
   "cell_type": "markdown",
   "metadata": {},
   "source": [
    "## 5. Get Last Decision Tree\n",
    "\n",
    "This step is the most "
   ]
  },
  {
   "cell_type": "code",
   "execution_count": 13,
   "metadata": {},
   "outputs": [],
   "source": [
    "ts = full[list(agent_ids)[0]]['data'].index.astype(np.int64).values[-1] // 10**9 #get last timestamp\n",
    "\n",
    "\n",
    "def get_DT(agent_id):\n",
    "    \n",
    "    #create temporary client\n",
    "    tmp_client = craftai.pandas.Client({\n",
    "      \"token\": os.environ.get(\"CRAFT_TOKEN\")\n",
    "    })\n",
    "    \n",
    "    now = time()\n",
    "    full[agent_id]['tree'] = tmp_client.get_decision_tree(agent_id, timestamp=ts)\n",
    "    print('DT', agent_id, '--> ok | ', int(time() - now), 'seconds.')"
   ]
  },
  {
   "cell_type": "code",
   "execution_count": 14,
   "metadata": {},
   "outputs": [
    {
     "name": "stdout",
     "output_type": "stream",
     "text": [
      "DT taxi_zone_126 --> ok |  53 seconds.\n",
      "DT taxi_zone_147 --> ok |  33 seconds.\n",
      "DT taxi_zone_159 --> ok |  66 seconds.\n",
      "DT taxi_zone_168 --> ok |  62 seconds.\n",
      "DT taxi_zone_247 --> ok |  38 seconds.\n",
      "CPU times: user 647 ms, sys: 137 ms, total: 784 ms\n",
      "Wall time: 4min 15s\n"
     ]
    },
    {
     "data": {
      "text/plain": [
       "False"
      ]
     },
     "execution_count": 14,
     "metadata": {},
     "output_type": "execute_result"
    }
   ],
   "source": [
    "%%time\n",
    "\n",
    "any(map(get_DT, agent_ids))"
   ]
  },
  {
   "cell_type": "markdown",
   "metadata": {},
   "source": [
    "## 6. Decide "
   ]
  },
  {
   "cell_type": "code",
   "execution_count": 15,
   "metadata": {},
   "outputs": [
    {
     "data": {
      "text/html": [
       "<div>\n",
       "<style scoped>\n",
       "    .dataframe tbody tr th:only-of-type {\n",
       "        vertical-align: middle;\n",
       "    }\n",
       "\n",
       "    .dataframe tbody tr th {\n",
       "        vertical-align: top;\n",
       "    }\n",
       "\n",
       "    .dataframe thead th {\n",
       "        text-align: right;\n",
       "    }\n",
       "</style>\n",
       "<table border=\"1\" class=\"dataframe\">\n",
       "  <thead>\n",
       "    <tr style=\"text-align: right;\">\n",
       "      <th></th>\n",
       "      <th>timezone</th>\n",
       "    </tr>\n",
       "  </thead>\n",
       "  <tbody>\n",
       "    <tr>\n",
       "      <th>2018-01-01 00:00:00-05:00</th>\n",
       "      <td>-05:00</td>\n",
       "    </tr>\n",
       "  </tbody>\n",
       "</table>\n",
       "</div>"
      ],
      "text/plain": [
       "                          timezone\n",
       "2018-01-01 00:00:00-05:00   -05:00"
      ]
     },
     "execution_count": 15,
     "metadata": {},
     "output_type": "execute_result"
    }
   ],
   "source": [
    "DECISION_DF = pd.DataFrame(\n",
    "    ['-05:00'],\n",
    "    columns=['timezone'],\n",
    "    index=pd.date_range(\"2018-01-01 00:00\", periods=1, freq=\"h\").tz_localize(\"America/New_York\")\n",
    ")\n",
    "\n",
    "DECISION_DF.head()"
   ]
  },
  {
   "cell_type": "code",
   "execution_count": 16,
   "metadata": {},
   "outputs": [],
   "source": [
    "def agent_decide(agent_id):\n",
    "    tree = full[agent_id]['tree']\n",
    "    decision = client.decide_from_contexts_df(tree, DECISION_DF)\n",
    "    full[agent_id]['decision'] = decision\n",
    "    print('--| Decision ok for ', agent_id)"
   ]
  },
  {
   "cell_type": "code",
   "execution_count": 17,
   "metadata": {},
   "outputs": [
    {
     "name": "stdout",
     "output_type": "stream",
     "text": [
      "--| Decision ok for  taxi_zone_126\n",
      "--| Decision ok for  taxi_zone_147\n",
      "--| Decision ok for  taxi_zone_159\n",
      "--| Decision ok for  taxi_zone_168\n",
      "--| Decision ok for  taxi_zone_247\n",
      "CPU times: user 68.2 ms, sys: 8.02 ms, total: 76.2 ms\n",
      "Wall time: 73.5 ms\n"
     ]
    },
    {
     "data": {
      "text/plain": [
       "False"
      ]
     },
     "execution_count": 17,
     "metadata": {},
     "output_type": "execute_result"
    }
   ],
   "source": [
    "%%time\n",
    "\n",
    "any(map(agent_decide, agent_ids))"
   ]
  },
  {
   "cell_type": "markdown",
   "metadata": {},
   "source": [
    "## 7. Evaluate Best Taxi Zone "
   ]
  },
  {
   "cell_type": "code",
   "execution_count": 18,
   "metadata": {},
   "outputs": [],
   "source": [
    "get_value = lambda df : df.iloc[0].trip_counter_predicted_value"
   ]
  },
  {
   "cell_type": "code",
   "execution_count": 19,
   "metadata": {},
   "outputs": [
    {
     "name": "stdout",
     "output_type": "stream",
     "text": [
      "--| taxi_zone_147 0.093793064\n",
      "--| taxi_zone_159 0.43959767\n",
      "--| taxi_zone_168 2.3933916\n",
      "--| taxi_zone_247 0.7254565\n"
     ]
    }
   ],
   "source": [
    "best_agent = list(agent_ids)[0]\n",
    "max_value = get_value(full[best_agent]['decision'])\n",
    "\n",
    "for agent_id in list(agent_ids)[1:]:\n",
    "    agent_value = get_value(full[agent_id]['decision'])\n",
    "    print('--|', agent_id, agent_value)\n",
    "    if agent_value > max_value:\n",
    "        max_value = agent_value\n",
    "        best_agent = agent_id"
   ]
  },
  {
   "cell_type": "code",
   "execution_count": 20,
   "metadata": {},
   "outputs": [
    {
     "name": "stdout",
     "output_type": "stream",
     "text": [
      "Best Taxi Zone: taxi_zone_168 2.3933916\n"
     ]
    }
   ],
   "source": [
    "print('Best Taxi Zone:', best_agent, max_value)"
   ]
  },
  {
   "cell_type": "code",
   "execution_count": null,
   "metadata": {},
   "outputs": [],
   "source": []
  }
 ],
 "metadata": {
  "kernelspec": {
   "display_name": "Python 3",
   "language": "python",
   "name": "python3"
  },
  "language_info": {
   "codemirror_mode": {
    "name": "ipython",
    "version": 3
   },
   "file_extension": ".py",
   "mimetype": "text/x-python",
   "name": "python",
   "nbconvert_exporter": "python",
   "pygments_lexer": "ipython3",
   "version": "3.7.0"
  }
 },
 "nbformat": 4,
 "nbformat_minor": 2
}
