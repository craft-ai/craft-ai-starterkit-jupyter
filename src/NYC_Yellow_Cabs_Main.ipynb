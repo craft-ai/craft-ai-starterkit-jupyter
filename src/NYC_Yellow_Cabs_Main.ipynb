{
 "cells": [
  {
   "cell_type": "markdown",
   "metadata": {},
   "source": [
    "# NYC Yellow cab dataset -- Main\n",
    "\n",
    "\n",
    "This notebook aims at giving to the user a `craftai.pandas` use case.\n",
    "\n",
    "This use case is based on the dataset `yellow.csv` located in the directory _data/_. (It is possible to regenerate this dataset by using the notebook `NYC_Yellow_Cabs_Preprocessing.ipynb`.)\n",
    "\n",
    "`yellow.csv` has been extracted from the data available on the ___NYC Taxi and Limousine Commission (LTC)___ [webpage](http://www.nyc.gov/html/tlc/html/about/trip_record_data.shtml)."
   ]
  },
  {
   "cell_type": "code",
   "execution_count": 1,
   "metadata": {},
   "outputs": [
    {
     "data": {
      "text/html": [
       "<script>requirejs.config({paths: { 'plotly': ['https://cdn.plot.ly/plotly-latest.min']},});if(!window.Plotly) {{require(['plotly'],function(plotly) {window.Plotly=plotly;});}}</script>"
      ],
      "text/vnd.plotly.v1+html": [
       "<script>requirejs.config({paths: { 'plotly': ['https://cdn.plot.ly/plotly-latest.min']},});if(!window.Plotly) {{require(['plotly'],function(plotly) {window.Plotly=plotly;});}}</script>"
      ]
     },
     "metadata": {},
     "output_type": "display_data"
    }
   ],
   "source": [
    "import craftai.pandas\n",
    "import pandas as pd\n",
    "import numpy as np\n",
    "\n",
    "import os\n",
    "from time import time\n",
    "from multiprocessing import Pool\n",
    "\n",
    "from plotly.offline import init_notebook_mode, iplot\n",
    "import plotly.graph_objs as go\n",
    "\n",
    "init_notebook_mode(connected=True)"
   ]
  },
  {
   "cell_type": "markdown",
   "metadata": {},
   "source": [
    "## 1. Load `yellow` Dataset\n",
    "\n",
    "`yellow` contains the number of yellow taxis hired for each `taxi_zone` at a hourly time for the whole year 2017. "
   ]
  },
  {
   "cell_type": "code",
   "execution_count": 2,
   "metadata": {},
   "outputs": [],
   "source": [
    "PATH = '../data/' # Modify this to fit your data folder"
   ]
  },
  {
   "cell_type": "code",
   "execution_count": 3,
   "metadata": {},
   "outputs": [],
   "source": [
    "yellow = pd.read_csv(PATH + 'yellow.csv')\n",
    "yellow.columns = yellow.columns[1:].insert(0, 'timestamp')\n",
    "yellow.timestamp = pd.to_datetime(yellow.timestamp, utc=True)\n",
    "yellow.set_index('timestamp', drop=True, inplace=True)\n",
    "yellow.index = yellow.index.tz_convert('America/New_York')"
   ]
  },
  {
   "cell_type": "code",
   "execution_count": 4,
   "metadata": {},
   "outputs": [
    {
     "data": {
      "text/html": [
       "<div>\n",
       "<style scoped>\n",
       "    .dataframe tbody tr th:only-of-type {\n",
       "        vertical-align: middle;\n",
       "    }\n",
       "\n",
       "    .dataframe tbody tr th {\n",
       "        vertical-align: top;\n",
       "    }\n",
       "\n",
       "    .dataframe thead th {\n",
       "        text-align: right;\n",
       "    }\n",
       "</style>\n",
       "<table border=\"1\" class=\"dataframe\">\n",
       "  <thead>\n",
       "    <tr style=\"text-align: right;\">\n",
       "      <th></th>\n",
       "      <th>timezone</th>\n",
       "      <th>1</th>\n",
       "      <th>2</th>\n",
       "      <th>3</th>\n",
       "      <th>4</th>\n",
       "      <th>5</th>\n",
       "      <th>6</th>\n",
       "      <th>7</th>\n",
       "      <th>8</th>\n",
       "      <th>9</th>\n",
       "      <th>...</th>\n",
       "      <th>256</th>\n",
       "      <th>257</th>\n",
       "      <th>258</th>\n",
       "      <th>259</th>\n",
       "      <th>260</th>\n",
       "      <th>261</th>\n",
       "      <th>262</th>\n",
       "      <th>263</th>\n",
       "      <th>264</th>\n",
       "      <th>265</th>\n",
       "    </tr>\n",
       "    <tr>\n",
       "      <th>timestamp</th>\n",
       "      <th></th>\n",
       "      <th></th>\n",
       "      <th></th>\n",
       "      <th></th>\n",
       "      <th></th>\n",
       "      <th></th>\n",
       "      <th></th>\n",
       "      <th></th>\n",
       "      <th></th>\n",
       "      <th></th>\n",
       "      <th></th>\n",
       "      <th></th>\n",
       "      <th></th>\n",
       "      <th></th>\n",
       "      <th></th>\n",
       "      <th></th>\n",
       "      <th></th>\n",
       "      <th></th>\n",
       "      <th></th>\n",
       "      <th></th>\n",
       "      <th></th>\n",
       "    </tr>\n",
       "  </thead>\n",
       "  <tbody>\n",
       "    <tr>\n",
       "      <th>2017-01-01 00:00:00-05:00</th>\n",
       "      <td>-05:00</td>\n",
       "      <td>2.0</td>\n",
       "      <td>0.0</td>\n",
       "      <td>0.0</td>\n",
       "      <td>54.0</td>\n",
       "      <td>0.0</td>\n",
       "      <td>0.0</td>\n",
       "      <td>66.0</td>\n",
       "      <td>0.0</td>\n",
       "      <td>0.0</td>\n",
       "      <td>...</td>\n",
       "      <td>50.0</td>\n",
       "      <td>1.0</td>\n",
       "      <td>0.0</td>\n",
       "      <td>2.0</td>\n",
       "      <td>49.0</td>\n",
       "      <td>23.0</td>\n",
       "      <td>35.0</td>\n",
       "      <td>133.0</td>\n",
       "      <td>135.0</td>\n",
       "      <td>13.0</td>\n",
       "    </tr>\n",
       "    <tr>\n",
       "      <th>2017-01-01 01:00:00-05:00</th>\n",
       "      <td>-05:00</td>\n",
       "      <td>2.0</td>\n",
       "      <td>0.0</td>\n",
       "      <td>0.0</td>\n",
       "      <td>36.0</td>\n",
       "      <td>0.0</td>\n",
       "      <td>0.0</td>\n",
       "      <td>54.0</td>\n",
       "      <td>1.0</td>\n",
       "      <td>0.0</td>\n",
       "      <td>...</td>\n",
       "      <td>30.0</td>\n",
       "      <td>0.0</td>\n",
       "      <td>4.0</td>\n",
       "      <td>2.0</td>\n",
       "      <td>31.0</td>\n",
       "      <td>17.0</td>\n",
       "      <td>49.0</td>\n",
       "      <td>106.0</td>\n",
       "      <td>86.0</td>\n",
       "      <td>10.0</td>\n",
       "    </tr>\n",
       "    <tr>\n",
       "      <th>2017-01-01 02:00:00-05:00</th>\n",
       "      <td>-05:00</td>\n",
       "      <td>2.0</td>\n",
       "      <td>0.0</td>\n",
       "      <td>0.0</td>\n",
       "      <td>28.0</td>\n",
       "      <td>0.0</td>\n",
       "      <td>0.0</td>\n",
       "      <td>42.0</td>\n",
       "      <td>0.0</td>\n",
       "      <td>0.0</td>\n",
       "      <td>...</td>\n",
       "      <td>6.0</td>\n",
       "      <td>0.0</td>\n",
       "      <td>0.0</td>\n",
       "      <td>0.0</td>\n",
       "      <td>16.0</td>\n",
       "      <td>14.0</td>\n",
       "      <td>72.0</td>\n",
       "      <td>92.0</td>\n",
       "      <td>80.0</td>\n",
       "      <td>6.0</td>\n",
       "    </tr>\n",
       "  </tbody>\n",
       "</table>\n",
       "<p>3 rows × 266 columns</p>\n",
       "</div>"
      ],
      "text/plain": [
       "                          timezone    1    2    3     4    5    6     7    8  \\\n",
       "timestamp                                                                      \n",
       "2017-01-01 00:00:00-05:00   -05:00  2.0  0.0  0.0  54.0  0.0  0.0  66.0  0.0   \n",
       "2017-01-01 01:00:00-05:00   -05:00  2.0  0.0  0.0  36.0  0.0  0.0  54.0  1.0   \n",
       "2017-01-01 02:00:00-05:00   -05:00  2.0  0.0  0.0  28.0  0.0  0.0  42.0  0.0   \n",
       "\n",
       "                             9  ...    256  257  258  259   260   261   262  \\\n",
       "timestamp                       ...                                           \n",
       "2017-01-01 00:00:00-05:00  0.0  ...   50.0  1.0  0.0  2.0  49.0  23.0  35.0   \n",
       "2017-01-01 01:00:00-05:00  0.0  ...   30.0  0.0  4.0  2.0  31.0  17.0  49.0   \n",
       "2017-01-01 02:00:00-05:00  0.0  ...    6.0  0.0  0.0  0.0  16.0  14.0  72.0   \n",
       "\n",
       "                             263    264   265  \n",
       "timestamp                                      \n",
       "2017-01-01 00:00:00-05:00  133.0  135.0  13.0  \n",
       "2017-01-01 01:00:00-05:00  106.0   86.0  10.0  \n",
       "2017-01-01 02:00:00-05:00   92.0   80.0   6.0  \n",
       "\n",
       "[3 rows x 266 columns]"
      ]
     },
     "execution_count": 4,
     "metadata": {},
     "output_type": "execute_result"
    }
   ],
   "source": [
    "yellow.head(3)"
   ]
  },
  {
   "cell_type": "markdown",
   "metadata": {},
   "source": [
    "## 2. Focus on Queens areas (Recommended)\n",
    "\n",
    "__If you want to compute all the taxi zones, skip the following cell.__\n",
    "\n",
    "To gain computation time, we only focus on 5 of the 69 Queens taxi zones.\n",
    "\n",
    "<img src=\"http://www.nyc.gov/html/tlc/images/features/taxi_zone_map_queens.jpg\" title=\"Queens Taxi Zones\" alt=\"Bronx Taxi Zones\" style=\"width: 300px;\"/>\n",
    "\n",
    "The selected taxi zones are the following: $7$, $145$, $146$, $193$, $226$ (NW areas)."
   ]
  },
  {
   "cell_type": "code",
   "execution_count": 5,
   "metadata": {},
   "outputs": [],
   "source": [
    "selected_zones = [7, 145, 146, 193, 226] # Modify this list to fit your needs\n",
    "\n",
    "columns = ['timezone'] + [str(z) for z in selected_zones]\n",
    "yellow = yellow[columns]"
   ]
  },
  {
   "cell_type": "markdown",
   "metadata": {},
   "source": [
    "To go more in details during this filtering step your can check the correspondences between `Borough`s and `taxi_zone`s (= `LocationID`) with the following lines:\n",
    "\n",
    "```\n",
    "nyc_zones = pd.read_csv('../data/taxi_zone_lookup.csv', usecols=['LocationID', 'Borough'])\n",
    "boroughs = nyc_zones.Borough.unique()\n",
    "bronx_zones = nyc_zones[nyc_zones.Borough == 'Bronx'].LocationID.unique()\n",
    "```"
   ]
  },
  {
   "cell_type": "markdown",
   "metadata": {},
   "source": [
    "## 3. Build Agent Datasets\n",
    "\n",
    "In this notebook each `taxi_zone` is computed independently by a Craft AI Agent. In other words, each Agent learns independently from a `taxi_zone` historical records to predict taxi needs in this specific area.\n",
    "\n",
    "So each Agent only need to have a `taxi_zone` filtered dataframe."
   ]
  },
  {
   "cell_type": "markdown",
   "metadata": {},
   "source": [
    "def build_agent_df(taxi_zone):\n",
    "    \"\"\" Filter the yellow dataset by the given taxi_zone\n",
    "    \"\"\"\n",
    "    \n",
    "    trips = []\n",
    "    data = yellow[yellow.taxi_zone == taxi_zone]\n",
    "    \n",
    "            \n",
    "    print('--| Zone', taxi_zone, 'ready')\n",
    "    agent_id = \"taxi_zone_{:0>3}\".format(taxi_zone)\n",
    "    return agent_id, {'data': pd.DataFrame(data={'trip_counter':trips, 'timezone':'-05:00'}, index=TIME_INDEX)}"
   ]
  },
  {
   "cell_type": "markdown",
   "metadata": {},
   "source": [
    "### Agents Datasets visualization"
   ]
  },
  {
   "cell_type": "markdown",
   "metadata": {},
   "source": [
    "```\n",
    "data = []\n",
    "for agent_id in agent_ids:\n",
    "    print(pd.to_datetime(agents[agent_id]['data'].index)[0], agents[agent_id]['data'].trip_counter[0])\n",
    "    data.append(go.Scatter(\n",
    "        x = TIME_INDEX,      \n",
    "        y = agents[agent_id]['data'].trip_counter,\n",
    "        name = agent_id,\n",
    "        opacity = 0.5,\n",
    "        line=dict(color='hsla(0,0,0%)')\n",
    "    ))\n",
    "\n",
    "layout = {'title': 'Selected Taxi Zones',\n",
    "                  'xaxis': {\n",
    "                      'title':'Time',\n",
    "                      'range':[pd.to_datetime('2017-01-01 00:00'),pd.to_datetime('2017-01-02 00:00')]},\n",
    "                  'yaxis': {'title':'#Clients'},\n",
    "                  'font': dict(size=16)}\n",
    "    \n",
    "iplot({'data': data,\n",
    "       'layout': layout},\n",
    "    )\n",
    "```"
   ]
  },
  {
   "cell_type": "markdown",
   "metadata": {},
   "source": [
    "## 2. Connect to craftai api\n",
    "\n",
    "Open a link to the Craft AI API by creating a `client` based on user's token."
   ]
  },
  {
   "cell_type": "code",
   "execution_count": 6,
   "metadata": {},
   "outputs": [],
   "source": [
    "client = craftai.pandas.Client({\n",
    "  \"token\": os.environ.get(\"CRAFT_TOKEN\")\n",
    "})"
   ]
  },
  {
   "cell_type": "markdown",
   "metadata": {},
   "source": [
    "## 3. Create Agents\n",
    "\n",
    "As mentionned above, each agent deals with a single `taxi_zone`.\n",
    "\n",
    "### 3.1 Setup the configuration"
   ]
  },
  {
   "cell_type": "code",
   "execution_count": 7,
   "metadata": {},
   "outputs": [
    {
     "data": {
      "text/html": [
       "<div>\n",
       "<style scoped>\n",
       "    .dataframe tbody tr th:only-of-type {\n",
       "        vertical-align: middle;\n",
       "    }\n",
       "\n",
       "    .dataframe tbody tr th {\n",
       "        vertical-align: top;\n",
       "    }\n",
       "\n",
       "    .dataframe thead th {\n",
       "        text-align: right;\n",
       "    }\n",
       "</style>\n",
       "<table border=\"1\" class=\"dataframe\">\n",
       "  <thead>\n",
       "    <tr style=\"text-align: right;\">\n",
       "      <th></th>\n",
       "      <th>zone</th>\n",
       "      <th>agent_id</th>\n",
       "    </tr>\n",
       "  </thead>\n",
       "  <tbody>\n",
       "    <tr>\n",
       "      <th>0</th>\n",
       "      <td>7</td>\n",
       "      <td>taxi_zone_007</td>\n",
       "    </tr>\n",
       "    <tr>\n",
       "      <th>1</th>\n",
       "      <td>145</td>\n",
       "      <td>taxi_zone_145</td>\n",
       "    </tr>\n",
       "    <tr>\n",
       "      <th>2</th>\n",
       "      <td>146</td>\n",
       "      <td>taxi_zone_146</td>\n",
       "    </tr>\n",
       "    <tr>\n",
       "      <th>3</th>\n",
       "      <td>193</td>\n",
       "      <td>taxi_zone_193</td>\n",
       "    </tr>\n",
       "    <tr>\n",
       "      <th>4</th>\n",
       "      <td>226</td>\n",
       "      <td>taxi_zone_226</td>\n",
       "    </tr>\n",
       "  </tbody>\n",
       "</table>\n",
       "</div>"
      ],
      "text/plain": [
       "   zone       agent_id\n",
       "0     7  taxi_zone_007\n",
       "1   145  taxi_zone_145\n",
       "2   146  taxi_zone_146\n",
       "3   193  taxi_zone_193\n",
       "4   226  taxi_zone_226"
      ]
     },
     "execution_count": 7,
     "metadata": {},
     "output_type": "execute_result"
    }
   ],
   "source": [
    "agents = pd.DataFrame(\n",
    "    data={\n",
    "        'zone'    :selected_zones,\n",
    "        'agent_id':[\"taxi_zone_{:0>3}\".format(z) for z in selected_zones]},\n",
    ")\n",
    "agents"
   ]
  },
  {
   "cell_type": "code",
   "execution_count": 8,
   "metadata": {},
   "outputs": [],
   "source": [
    "# CONFIGURATION is the same for all agents\n",
    "CONFIGURATION = {\n",
    "    \"context\": {\n",
    "        \"day_of_week\": {                # feature generated by the API from the DataFrame index \n",
    "            \"type\" : \"day_of_week\"\n",
    "        },\n",
    "        \"time\": {                       # feature generated by the API from the DataFrame index\n",
    "            \"type\": \"time_of_day\"\n",
    "        },\n",
    "        \"timezone\": {                   # timezone for trip_counter      \n",
    "            \"type\" : \"timezone\",        \n",
    "        },\n",
    "        \"trip_counter\": {               # taxi trips counter            \n",
    "            \"type\": \"continuous\"\n",
    "        }\n",
    "    },\n",
    "    \"output\": [\"trip_counter\"],         # the output is continuous\n",
    "}\n",
    "\n",
    "\n",
    "def setup_agent(row):\n",
    "    \"\"\" Initiate Agent with the given id and \n",
    "        associate to each Agent its dataframe\n",
    "    \"\"\"\n",
    "\n",
    "    # Delete older version of the agent\n",
    "    client.delete_agent(row.agent_id)\n",
    "\n",
    "    # Add the new agent\n",
    "    client.create_agent(CONFIGURATION, row.agent_id)\n",
    "    \n",
    "    # Add operations\n",
    "    data = yellow[['timezone', str(row.zone)]]\n",
    "    data.columns = ['timezone', 'trip_counter']\n",
    "    client.add_operations(row.agent_id, data)\n",
    "    \n",
    "    return True\n",
    "    #print(\"Agent\", row.agent_id, \"has successfully been setup\")\n",
    "    "
   ]
  },
  {
   "cell_type": "code",
   "execution_count": 9,
   "metadata": {},
   "outputs": [
    {
     "name": "stdout",
     "output_type": "stream",
     "text": [
      "CPU times: user 15.6 s, sys: 82.6 ms, total: 15.7 s\n",
      "Wall time: 23.7 s\n"
     ]
    }
   ],
   "source": [
    "%%time\n",
    "\n",
    "agents['setup'] = agents.apply(setup_agent, axis=1)\n",
    "agents"
   ]
  },
  {
   "cell_type": "markdown",
   "metadata": {},
   "source": [
    "### 3.2 Retrieve Last Decision Tree\n",
    "\n",
    "Each Agent learns from its operations. Then we ask the API for the last Decision Tree.\n",
    "\n",
    "__This step is the most time consuming.__\n",
    "\n",
    "__TODO__ use asynchrone request to the API: https://docs.python.org/3/library/asyncio.html."
   ]
  },
  {
   "cell_type": "code",
   "execution_count": 10,
   "metadata": {},
   "outputs": [],
   "source": [
    "TS = yellow.index.astype(np.int64).values[-1] // 10**9 #get last timestamp\n",
    "\n",
    "get_DT = lambda agent_id : client.get_decision_tree(agent_id, timestamp=TS)"
   ]
  },
  {
   "cell_type": "code",
   "execution_count": 11,
   "metadata": {},
   "outputs": [
    {
     "name": "stdout",
     "output_type": "stream",
     "text": [
      "CPU times: user 70.4 ms, sys: 3.93 ms, total: 74.3 ms\n",
      "Wall time: 3min 46s\n"
     ]
    }
   ],
   "source": [
    "%%time\n",
    "\n",
    "agents['decision_tree'] = agents.agent_id.apply(get_DT)"
   ]
  },
  {
   "cell_type": "markdown",
   "metadata": {},
   "source": [
    "## 4. Decision \n",
    "\n",
    "For a given timestamp (here _2018-01-01 00:00_), ask each Agent to make a prediction."
   ]
  },
  {
   "cell_type": "markdown",
   "metadata": {},
   "source": [
    "### 4.1 Decision Dataframe setup"
   ]
  },
  {
   "cell_type": "code",
   "execution_count": 13,
   "metadata": {},
   "outputs": [
    {
     "data": {
      "text/html": [
       "<div>\n",
       "<style scoped>\n",
       "    .dataframe tbody tr th:only-of-type {\n",
       "        vertical-align: middle;\n",
       "    }\n",
       "\n",
       "    .dataframe tbody tr th {\n",
       "        vertical-align: top;\n",
       "    }\n",
       "\n",
       "    .dataframe thead th {\n",
       "        text-align: right;\n",
       "    }\n",
       "</style>\n",
       "<table border=\"1\" class=\"dataframe\">\n",
       "  <thead>\n",
       "    <tr style=\"text-align: right;\">\n",
       "      <th></th>\n",
       "      <th>timezone</th>\n",
       "    </tr>\n",
       "  </thead>\n",
       "  <tbody>\n",
       "    <tr>\n",
       "      <th>2018-01-01 00:00:00-05:00</th>\n",
       "      <td>-05:00</td>\n",
       "    </tr>\n",
       "  </tbody>\n",
       "</table>\n",
       "</div>"
      ],
      "text/plain": [
       "                          timezone\n",
       "2018-01-01 00:00:00-05:00   -05:00"
      ]
     },
     "execution_count": 13,
     "metadata": {},
     "output_type": "execute_result"
    }
   ],
   "source": [
    "# DECISION_DF is the same for all Agents as we want to compare taxi zones\n",
    "DECISION_DF = pd.DataFrame(\n",
    "    ['-05:00'],\n",
    "    columns=['timezone'],\n",
    "    index=pd.date_range(\"2018-01-01 00:00\", periods=1, freq=\"h\").tz_localize(\"America/New_York\")\n",
    ")\n",
    "\n",
    "DECISION_DF.head()"
   ]
  },
  {
   "cell_type": "markdown",
   "metadata": {},
   "source": [
    "### 4.2 Make Decision\n",
    "\n",
    "Ask each Agent to estimate the taxi need for their own `taxi_zone` thanks to the `DECISION_DF`."
   ]
  },
  {
   "cell_type": "code",
   "execution_count": 14,
   "metadata": {},
   "outputs": [
    {
     "data": {
      "text/html": [
       "<div>\n",
       "<style scoped>\n",
       "    .dataframe tbody tr th:only-of-type {\n",
       "        vertical-align: middle;\n",
       "    }\n",
       "\n",
       "    .dataframe tbody tr th {\n",
       "        vertical-align: top;\n",
       "    }\n",
       "\n",
       "    .dataframe thead th {\n",
       "        text-align: right;\n",
       "    }\n",
       "</style>\n",
       "<table border=\"1\" class=\"dataframe\">\n",
       "  <thead>\n",
       "    <tr style=\"text-align: right;\">\n",
       "      <th></th>\n",
       "      <th>zone</th>\n",
       "      <th>agent_id</th>\n",
       "      <th>setup</th>\n",
       "      <th>decision_tree</th>\n",
       "      <th>trip_counter_predicted_value</th>\n",
       "      <th>trip_counter_confidence</th>\n",
       "      <th>trip_counter_decision_rules</th>\n",
       "      <th>trip_counter_standard_deviation</th>\n",
       "    </tr>\n",
       "  </thead>\n",
       "  <tbody>\n",
       "    <tr>\n",
       "      <th>0</th>\n",
       "      <td>7</td>\n",
       "      <td>taxi_zone_007</td>\n",
       "      <td>True</td>\n",
       "      <td>{'_version': '1.1.0', 'trees': {'trip_counter'...</td>\n",
       "      <td>18.160643</td>\n",
       "      <td>0.675409</td>\n",
       "      <td>[{'property': 'time', 'operator': '[in[', 'ope...</td>\n",
       "      <td>8.715281</td>\n",
       "    </tr>\n",
       "    <tr>\n",
       "      <th>1</th>\n",
       "      <td>145</td>\n",
       "      <td>taxi_zone_145</td>\n",
       "      <td>True</td>\n",
       "      <td>{'_version': '1.1.0', 'trees': {'trip_counter'...</td>\n",
       "      <td>7.193333</td>\n",
       "      <td>0.669811</td>\n",
       "      <td>[{'property': 'time', 'operator': '[in[', 'ope...</td>\n",
       "      <td>3.534098</td>\n",
       "    </tr>\n",
       "    <tr>\n",
       "      <th>2</th>\n",
       "      <td>146</td>\n",
       "      <td>taxi_zone_146</td>\n",
       "      <td>True</td>\n",
       "      <td>{'_version': '1.1.0', 'trees': {'trip_counter'...</td>\n",
       "      <td>11.977649</td>\n",
       "      <td>0.721389</td>\n",
       "      <td>[{'property': 'day_of_week', 'operator': '[in[...</td>\n",
       "      <td>4.623188</td>\n",
       "    </tr>\n",
       "    <tr>\n",
       "      <th>3</th>\n",
       "      <td>193</td>\n",
       "      <td>taxi_zone_193</td>\n",
       "      <td>True</td>\n",
       "      <td>{'_version': '1.1.0', 'trees': {'trip_counter'...</td>\n",
       "      <td>5.577778</td>\n",
       "      <td>0.651400</td>\n",
       "      <td>[{'property': 'time', 'operator': '[in[', 'ope...</td>\n",
       "      <td>2.969146</td>\n",
       "    </tr>\n",
       "    <tr>\n",
       "      <th>4</th>\n",
       "      <td>226</td>\n",
       "      <td>taxi_zone_226</td>\n",
       "      <td>True</td>\n",
       "      <td>{'_version': '1.1.0', 'trees': {'trip_counter'...</td>\n",
       "      <td>23.360010</td>\n",
       "      <td>0.808327</td>\n",
       "      <td>[{'property': 'time', 'operator': '[in[', 'ope...</td>\n",
       "      <td>5.475126</td>\n",
       "    </tr>\n",
       "  </tbody>\n",
       "</table>\n",
       "</div>"
      ],
      "text/plain": [
       "   zone       agent_id  setup  \\\n",
       "0     7  taxi_zone_007   True   \n",
       "1   145  taxi_zone_145   True   \n",
       "2   146  taxi_zone_146   True   \n",
       "3   193  taxi_zone_193   True   \n",
       "4   226  taxi_zone_226   True   \n",
       "\n",
       "                                       decision_tree  \\\n",
       "0  {'_version': '1.1.0', 'trees': {'trip_counter'...   \n",
       "1  {'_version': '1.1.0', 'trees': {'trip_counter'...   \n",
       "2  {'_version': '1.1.0', 'trees': {'trip_counter'...   \n",
       "3  {'_version': '1.1.0', 'trees': {'trip_counter'...   \n",
       "4  {'_version': '1.1.0', 'trees': {'trip_counter'...   \n",
       "\n",
       "   trip_counter_predicted_value  trip_counter_confidence  \\\n",
       "0                     18.160643                 0.675409   \n",
       "1                      7.193333                 0.669811   \n",
       "2                     11.977649                 0.721389   \n",
       "3                      5.577778                 0.651400   \n",
       "4                     23.360010                 0.808327   \n",
       "\n",
       "                         trip_counter_decision_rules  \\\n",
       "0  [{'property': 'time', 'operator': '[in[', 'ope...   \n",
       "1  [{'property': 'time', 'operator': '[in[', 'ope...   \n",
       "2  [{'property': 'day_of_week', 'operator': '[in[...   \n",
       "3  [{'property': 'time', 'operator': '[in[', 'ope...   \n",
       "4  [{'property': 'time', 'operator': '[in[', 'ope...   \n",
       "\n",
       "   trip_counter_standard_deviation  \n",
       "0                         8.715281  \n",
       "1                         3.534098  \n",
       "2                         4.623188  \n",
       "3                         2.969146  \n",
       "4                         5.475126  "
      ]
     },
     "execution_count": 14,
     "metadata": {},
     "output_type": "execute_result"
    }
   ],
   "source": [
    "def decide(tree):\n",
    "    decision = client.decide_from_contexts_df(tree, DECISION_DF)\n",
    "    return pd.Series({c:decision[c].values[0] for c in decision.columns})\n",
    "\n",
    "\n",
    "agents = agents.merge(\n",
    "    agents.decision_tree.apply(decide), \n",
    "    left_index=True, \n",
    "    right_index=True\n",
    ")\n",
    "\n",
    "agents"
   ]
  },
  {
   "cell_type": "markdown",
   "metadata": {},
   "source": [
    "## 5. Evaluate Best Taxi Zone \n",
    "\n",
    "Based on all Agents estimations, find the `taxi_zone` with the most persons looking for a taxi. "
   ]
  },
  {
   "cell_type": "code",
   "execution_count": 15,
   "metadata": {},
   "outputs": [
    {
     "name": "stdout",
     "output_type": "stream",
     "text": [
      "Zones sorted by number of client:\n"
     ]
    },
    {
     "data": {
      "text/html": [
       "<div>\n",
       "<style scoped>\n",
       "    .dataframe tbody tr th:only-of-type {\n",
       "        vertical-align: middle;\n",
       "    }\n",
       "\n",
       "    .dataframe tbody tr th {\n",
       "        vertical-align: top;\n",
       "    }\n",
       "\n",
       "    .dataframe thead th {\n",
       "        text-align: right;\n",
       "    }\n",
       "</style>\n",
       "<table border=\"1\" class=\"dataframe\">\n",
       "  <thead>\n",
       "    <tr style=\"text-align: right;\">\n",
       "      <th></th>\n",
       "      <th>zone</th>\n",
       "      <th>agent_id</th>\n",
       "      <th>setup</th>\n",
       "      <th>decision_tree</th>\n",
       "      <th>trip_counter_predicted_value</th>\n",
       "      <th>trip_counter_confidence</th>\n",
       "      <th>trip_counter_decision_rules</th>\n",
       "      <th>trip_counter_standard_deviation</th>\n",
       "    </tr>\n",
       "  </thead>\n",
       "  <tbody>\n",
       "    <tr>\n",
       "      <th>4</th>\n",
       "      <td>226</td>\n",
       "      <td>taxi_zone_226</td>\n",
       "      <td>True</td>\n",
       "      <td>{'_version': '1.1.0', 'trees': {'trip_counter'...</td>\n",
       "      <td>23.360010</td>\n",
       "      <td>0.808327</td>\n",
       "      <td>[{'property': 'time', 'operator': '[in[', 'ope...</td>\n",
       "      <td>5.475126</td>\n",
       "    </tr>\n",
       "    <tr>\n",
       "      <th>0</th>\n",
       "      <td>7</td>\n",
       "      <td>taxi_zone_007</td>\n",
       "      <td>True</td>\n",
       "      <td>{'_version': '1.1.0', 'trees': {'trip_counter'...</td>\n",
       "      <td>18.160643</td>\n",
       "      <td>0.675409</td>\n",
       "      <td>[{'property': 'time', 'operator': '[in[', 'ope...</td>\n",
       "      <td>8.715281</td>\n",
       "    </tr>\n",
       "    <tr>\n",
       "      <th>2</th>\n",
       "      <td>146</td>\n",
       "      <td>taxi_zone_146</td>\n",
       "      <td>True</td>\n",
       "      <td>{'_version': '1.1.0', 'trees': {'trip_counter'...</td>\n",
       "      <td>11.977649</td>\n",
       "      <td>0.721389</td>\n",
       "      <td>[{'property': 'day_of_week', 'operator': '[in[...</td>\n",
       "      <td>4.623188</td>\n",
       "    </tr>\n",
       "    <tr>\n",
       "      <th>1</th>\n",
       "      <td>145</td>\n",
       "      <td>taxi_zone_145</td>\n",
       "      <td>True</td>\n",
       "      <td>{'_version': '1.1.0', 'trees': {'trip_counter'...</td>\n",
       "      <td>7.193333</td>\n",
       "      <td>0.669811</td>\n",
       "      <td>[{'property': 'time', 'operator': '[in[', 'ope...</td>\n",
       "      <td>3.534098</td>\n",
       "    </tr>\n",
       "    <tr>\n",
       "      <th>3</th>\n",
       "      <td>193</td>\n",
       "      <td>taxi_zone_193</td>\n",
       "      <td>True</td>\n",
       "      <td>{'_version': '1.1.0', 'trees': {'trip_counter'...</td>\n",
       "      <td>5.577778</td>\n",
       "      <td>0.651400</td>\n",
       "      <td>[{'property': 'time', 'operator': '[in[', 'ope...</td>\n",
       "      <td>2.969146</td>\n",
       "    </tr>\n",
       "  </tbody>\n",
       "</table>\n",
       "</div>"
      ],
      "text/plain": [
       "   zone       agent_id  setup  \\\n",
       "4   226  taxi_zone_226   True   \n",
       "0     7  taxi_zone_007   True   \n",
       "2   146  taxi_zone_146   True   \n",
       "1   145  taxi_zone_145   True   \n",
       "3   193  taxi_zone_193   True   \n",
       "\n",
       "                                       decision_tree  \\\n",
       "4  {'_version': '1.1.0', 'trees': {'trip_counter'...   \n",
       "0  {'_version': '1.1.0', 'trees': {'trip_counter'...   \n",
       "2  {'_version': '1.1.0', 'trees': {'trip_counter'...   \n",
       "1  {'_version': '1.1.0', 'trees': {'trip_counter'...   \n",
       "3  {'_version': '1.1.0', 'trees': {'trip_counter'...   \n",
       "\n",
       "   trip_counter_predicted_value  trip_counter_confidence  \\\n",
       "4                     23.360010                 0.808327   \n",
       "0                     18.160643                 0.675409   \n",
       "2                     11.977649                 0.721389   \n",
       "1                      7.193333                 0.669811   \n",
       "3                      5.577778                 0.651400   \n",
       "\n",
       "                         trip_counter_decision_rules  \\\n",
       "4  [{'property': 'time', 'operator': '[in[', 'ope...   \n",
       "0  [{'property': 'time', 'operator': '[in[', 'ope...   \n",
       "2  [{'property': 'day_of_week', 'operator': '[in[...   \n",
       "1  [{'property': 'time', 'operator': '[in[', 'ope...   \n",
       "3  [{'property': 'time', 'operator': '[in[', 'ope...   \n",
       "\n",
       "   trip_counter_standard_deviation  \n",
       "4                         5.475126  \n",
       "0                         8.715281  \n",
       "2                         4.623188  \n",
       "1                         3.534098  \n",
       "3                         2.969146  "
      ]
     },
     "execution_count": 15,
     "metadata": {},
     "output_type": "execute_result"
    }
   ],
   "source": [
    "print('Zones sorted by number of client:')\n",
    "agents.sort_values('trip_counter_predicted_value', ascending=False)"
   ]
  },
  {
   "cell_type": "markdown",
   "metadata": {},
   "source": [
    "__Result:__\n",
    "\n",
    "So a taxi driver working at 00:00 the 2018-01-01 in the Queens NW areas should drive through zones $226$ and $7$ to maximize his chances to pick up clients. "
   ]
  },
  {
   "cell_type": "markdown",
   "metadata": {},
   "source": [
    "## 6. Summary\n",
    "\n",
    "By using the Craft AI API and NYC yellow taxis 2017 data, we have been able to find NY areas where it is the most likely to need taxis."
   ]
  },
  {
   "cell_type": "code",
   "execution_count": null,
   "metadata": {},
   "outputs": [],
   "source": []
  }
 ],
 "metadata": {
  "kernelspec": {
   "display_name": "Python 3",
   "language": "python",
   "name": "python3"
  },
  "language_info": {
   "codemirror_mode": {
    "name": "ipython",
    "version": 3
   },
   "file_extension": ".py",
   "mimetype": "text/x-python",
   "name": "python",
   "nbconvert_exporter": "python",
   "pygments_lexer": "ipython3",
   "version": "3.7.0"
  }
 },
 "nbformat": 4,
 "nbformat_minor": 2
}
