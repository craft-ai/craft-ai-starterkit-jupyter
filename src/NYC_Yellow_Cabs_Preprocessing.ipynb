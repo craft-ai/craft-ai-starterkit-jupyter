{
 "cells": [
  {
   "cell_type": "markdown",
   "metadata": {},
   "source": [
    "# NYC Yellow cab dataset"
   ]
  },
  {
   "cell_type": "code",
   "execution_count": 1,
   "metadata": {},
   "outputs": [],
   "source": [
    "import pandas as pd\n",
    "import numpy as np\n",
    "from time import time"
   ]
  },
  {
   "cell_type": "markdown",
   "metadata": {},
   "source": [
    "## 1. Download Data\n",
    "\n",
    "Only download the `TARGET_COLUMNS` from the S3 repository. \n",
    "\n",
    "__Warning:__ Even with an excellent connection, it takes around 3 min by month downloaded, so __~40 min__ for the full year."
   ]
  },
  {
   "cell_type": "code",
   "execution_count": 2,
   "metadata": {},
   "outputs": [
    {
     "name": "stdout",
     "output_type": "stream",
     "text": [
      "--| https://s3.amazonaws.com/nyc-tlc/trip+data/yellow_tripdata_2017-01.csv\n",
      "--> 75 seconds\n",
      "\n",
      "--| https://s3.amazonaws.com/nyc-tlc/trip+data/yellow_tripdata_2017-02.csv\n",
      "--> 147 seconds\n",
      "\n",
      "--| https://s3.amazonaws.com/nyc-tlc/trip+data/yellow_tripdata_2017-03.csv\n",
      "--> 81 seconds\n",
      "\n",
      "--| https://s3.amazonaws.com/nyc-tlc/trip+data/yellow_tripdata_2017-04.csv\n",
      "--> 199 seconds\n",
      "\n",
      "--| https://s3.amazonaws.com/nyc-tlc/trip+data/yellow_tripdata_2017-05.csv\n",
      "--> 313 seconds\n",
      "\n",
      "--| https://s3.amazonaws.com/nyc-tlc/trip+data/yellow_tripdata_2017-06.csv\n",
      "--> 137 seconds\n",
      "\n",
      "--| https://s3.amazonaws.com/nyc-tlc/trip+data/yellow_tripdata_2017-07.csv\n",
      "--> 113 seconds\n",
      "\n",
      "--| https://s3.amazonaws.com/nyc-tlc/trip+data/yellow_tripdata_2017-08.csv\n",
      "--> 158 seconds\n",
      "\n",
      "--| https://s3.amazonaws.com/nyc-tlc/trip+data/yellow_tripdata_2017-09.csv\n",
      "--> 214 seconds\n",
      "\n",
      "--| https://s3.amazonaws.com/nyc-tlc/trip+data/yellow_tripdata_2017-10.csv\n",
      "--> 92 seconds\n",
      "\n",
      "--| https://s3.amazonaws.com/nyc-tlc/trip+data/yellow_tripdata_2017-11.csv\n",
      "--> 408 seconds\n",
      "\n",
      "--| https://s3.amazonaws.com/nyc-tlc/trip+data/yellow_tripdata_2017-12.csv\n",
      "--> 382 seconds\n",
      "\n",
      "CPU times: user 2min 29s, sys: 41 s, total: 3min 10s\n",
      "Wall time: 38min 44s\n"
     ]
    }
   ],
   "source": [
    "%%time\n",
    "\n",
    "TARGET_COLUMNS = ['tpep_pickup_datetime', 'PULocationID'] \n",
    "\n",
    "months = []\n",
    "for m in range(1, 13):\n",
    "    \n",
    "    month = '{0:0>2}'.format(m)\n",
    "    url = \"https://s3.amazonaws.com/nyc-tlc/trip+data/yellow_tripdata_2017-{}.csv\".format(month)\n",
    "    \n",
    "    print('--| ' + url)\n",
    "    now = time()\n",
    "    months.append(pd.read_csv(url, usecols=TARGET_COLUMNS))\n",
    "    \n",
    "    print('-->', int(time()-now), 'seconds\\n')"
   ]
  },
  {
   "cell_type": "markdown",
   "metadata": {},
   "source": [
    "## 2. Data Preprocessing\n",
    "\n",
    "### 2.1 Build a single DataFrame\n",
    "\n",
    "Merge `months` into a single DataFrame: `yellow`."
   ]
  },
  {
   "cell_type": "code",
   "execution_count": 3,
   "metadata": {},
   "outputs": [],
   "source": [
    "yellow = pd.concat(months, ignore_index=True)\n",
    "yellow.columns = ['pickup_datetime', 'taxi_zone']"
   ]
  },
  {
   "cell_type": "markdown",
   "metadata": {},
   "source": [
    "### 2.2 Create an hourly timestamp\n",
    "\n",
    "Truncate `pickup_datetime` to groupby every trips that are starting from the same `taxi_zone` at the same hourly time."
   ]
  },
  {
   "cell_type": "code",
   "execution_count": 5,
   "metadata": {},
   "outputs": [],
   "source": [
    "# convert to datetime\n",
    "yellow.pickup_datetime = pd.to_datetime(yellow.pickup_datetime, utc=True)\n",
    "\n",
    "# Truncate the datetime to groupby by hour each trip\n",
    "yellow.pickup_datetime = yellow.pickup_datetime.dt.floor('h')\n",
    "\n",
    "# Add column to count the number of trips in each taxi zone\n",
    "yellow['trip_counter'] = np.ones(yellow.shape[0])\n",
    "yellow = yellow.groupby(['pickup_datetime', 'taxi_zone']).sum()"
   ]
  },
  {
   "cell_type": "markdown",
   "metadata": {},
   "source": [
    "### 2.3 Index on time\n",
    "Set `pickup_datetime` as index."
   ]
  },
  {
   "cell_type": "code",
   "execution_count": 6,
   "metadata": {},
   "outputs": [],
   "source": [
    "yellow.reset_index(inplace=True)\n",
    "yellow.set_index('pickup_datetime', inplace=True)"
   ]
  },
  {
   "cell_type": "markdown",
   "metadata": {},
   "source": [
    "### 2.4 Last cleaning step\n",
    "Filter unwanted lines added retrospectively."
   ]
  },
  {
   "cell_type": "code",
   "execution_count": 7,
   "metadata": {},
   "outputs": [],
   "source": [
    "yellow = yellow['2017-01-01 00:00':'2017-12-31 23:00']"
   ]
  },
  {
   "cell_type": "markdown",
   "metadata": {},
   "source": [
    "## 3. Export Data"
   ]
  },
  {
   "cell_type": "code",
   "execution_count": 8,
   "metadata": {},
   "outputs": [],
   "source": [
    "PATH = 'data/' # Modify to fit your data folder."
   ]
  },
  {
   "cell_type": "code",
   "execution_count": 9,
   "metadata": {},
   "outputs": [],
   "source": [
    "yellow.to_csv(PATH + 'yellow.csv', index=True)"
   ]
  },
  {
   "cell_type": "code",
   "execution_count": null,
   "metadata": {},
   "outputs": [],
   "source": []
  }
 ],
 "metadata": {
  "kernelspec": {
   "display_name": "Python 3",
   "language": "python",
   "name": "python3"
  },
  "language_info": {
   "codemirror_mode": {
    "name": "ipython",
    "version": 3
   },
   "file_extension": ".py",
   "mimetype": "text/x-python",
   "name": "python",
   "nbconvert_exporter": "python",
   "pygments_lexer": "ipython3",
   "version": "3.7.0"
  }
 },
 "nbformat": 4,
 "nbformat_minor": 2
}
