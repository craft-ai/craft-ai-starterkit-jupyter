{
 "cells": [
  {
   "cell_type": "markdown",
   "metadata": {},
   "source": [
    "# Preprocessing\n",
    "\n",
    "This notebook is provided to generate file `yellow_pickups.csv`. This file is already provided in the _data/_ folder. \n",
    "\n",
    "`yellow_pickups` contains the number of taxis hired for each `taxi_zone` at a hourly time for the whole year 2017, as well as the average fare amount and trip distance. \n",
    "\n",
    "The `yellow_pickups` dataset is computed from the ___NYC Taxi and Limousine Commission (LTC)___ [available data](https://www1.nyc.gov/site/tlc/about/tlc-trip-record-data.page)."
   ]
  },
  {
   "cell_type": "code",
   "execution_count": null,
   "metadata": {},
   "outputs": [],
   "source": [
    "import pandas as pd\n",
    "import numpy as np\n",
    "from time import time\n",
    "from multiprocessing import Pool"
   ]
  },
  {
   "cell_type": "markdown",
   "metadata": {},
   "source": [
    "## 1. Download Data\n",
    "\n",
    "Only download the `TARGET_COLUMNS` from the S3 repository. \n",
    "\n",
    "__Warning:__ Even with an excellent connection, it takes around __10 min__ to download the full year."
   ]
  },
  {
   "cell_type": "code",
   "execution_count": null,
   "metadata": {},
   "outputs": [],
   "source": [
    "URL = \"https://s3.amazonaws.com/nyc-tlc/trip+data/\"\n",
    "\n",
    "TARGET_COLUMNS = ['tpep_pickup_datetime', 'PULocationID', 'trip_distance', 'fare_amount'] \n",
    "\n",
    "def get_month_dataset(month):\n",
    "    url = URL + \"yellow_tripdata_2017-{:0>2}.csv\".format(month)\n",
    "    print('--| ' + url)\n",
    "    now = time()\n",
    "    month_df = pd.read_csv(url, usecols=TARGET_COLUMNS)\n",
    "    print(month, '-->', int(time()-now), 'seconds\\n')\n",
    "    return month_df"
   ]
  },
  {
   "cell_type": "code",
   "execution_count": null,
   "metadata": {},
   "outputs": [],
   "source": [
    "%%time\n",
    "\n",
    "p = Pool(5)\n",
    "months = list(p.map(get_month_dataset, range(1,13)))"
   ]
  },
  {
   "cell_type": "markdown",
   "metadata": {},
   "source": [
    "## 2. Data Preprocessing\n",
    "\n",
    "### 2.1 Build a single DataFrame\n",
    "\n",
    "Merge `months` into a single DataFrame: `yellow`."
   ]
  },
  {
   "cell_type": "code",
   "execution_count": null,
   "metadata": {},
   "outputs": [],
   "source": [
    "months = pd.concat(months, ignore_index=True)\n",
    "months.columns = ['pickup_datetime', 'trip_distance', 'pickup_zone', 'fare_amount']\n",
    "months.head()"
   ]
  },
  {
   "cell_type": "markdown",
   "metadata": {},
   "source": [
    "### 2.2 Create an hourly timestamp\n",
    "\n",
    "Truncate `pickup_datetime` to groupby every trips that are starting from the same `pickup_zone` at the same hourly time. \\"
   ]
  },
  {
   "cell_type": "code",
   "execution_count": null,
   "metadata": {},
   "outputs": [],
   "source": [
    "# Convert to datetime\n",
    "months.pickup_datetime = pd.to_datetime(months.pickup_datetime)\n",
    "\n",
    "# Truncate the datetime to groupby by hour each trip\n",
    "months.pickup_datetime = months.pickup_datetime.dt.floor('h')"
   ]
  },
  {
   "cell_type": "markdown",
   "metadata": {},
   "source": [
    "### 2.3 group by zone\n",
    "indexed on datetime"
   ]
  },
  {
   "cell_type": "code",
   "execution_count": null,
   "metadata": {},
   "outputs": [],
   "source": [
    "def pickup_summary(group):\n",
    "    return pd.Series({'pu_counter': group[group.columns[0]].count(), 'avg_trip_distance': group[group.columns[1]].mean() ,'avg_fare_amount': group[group.columns[2]].mean()})\n",
    "\n",
    "pickups_by_zone = months.groupby(['pickup_datetime', 'pickup_zone']).apply(pickup_summary).unstack(1)\n",
    "\n",
    "pickups_by_zone.index = pd.to_datetime(pickups_by_zone.index).tz_localize('America/New_York', ambiguous=True, nonexistent='shift_forward')\n",
    "pickups_by_zone = pickups_by_zone.sort_index()\n",
    "pickups_by_zone = pickups_by_zone.fillna(0)"
   ]
  },
  {
   "cell_type": "markdown",
   "metadata": {},
   "source": [
    "## 4. Export Data"
   ]
  },
  {
   "cell_type": "code",
   "execution_count": null,
   "metadata": {},
   "outputs": [],
   "source": [
    "PATH = '../data/' # Modify this to fit your data folder"
   ]
  },
  {
   "cell_type": "code",
   "execution_count": null,
   "metadata": {},
   "outputs": [],
   "source": [
    "pickups_by_zone.to_csv(PATH + 'yellow_pickups.csv', index=True)"
   ]
  },
  {
   "cell_type": "markdown",
   "metadata": {},
   "source": [
    "Now `yellow_pickups` is ready to be used by the `NYC_Yellow_Cabs_Main.ipynb` notebook."
   ]
  }
 ],
 "metadata": {
  "kernelspec": {
   "display_name": "Python 3.6.9 64-bit ('3.6.9': conda)",
   "language": "python",
   "name": "python36964bit369conda2cccd16a22264e11b09253d2ddce0131"
  },
  "language_info": {
   "codemirror_mode": {
    "name": "ipython",
    "version": 3
   },
   "file_extension": ".py",
   "mimetype": "text/x-python",
   "name": "python",
   "nbconvert_exporter": "python",
   "pygments_lexer": "ipython3",
   "version": "3.6.9"
  }
 },
 "nbformat": 4,
 "nbformat_minor": 4
}
