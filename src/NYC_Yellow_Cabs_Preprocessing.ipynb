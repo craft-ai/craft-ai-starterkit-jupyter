{
 "cells": [
  {
   "cell_type": "markdown",
   "metadata": {},
   "source": [
    "# NYC Yellow cab dataset -- Preprocessing\n",
    "\n",
    "This notebook is provided to generate file `yellow.csv`. This file is already provided in the _data/_ folder. \n",
    "\n",
    "`yellow` contains the number of taxis hired for each `taxi_zone` at a hourly time for the whole year 2017. \n",
    "\n",
    "The `yellow` dataset is computed from the ___NYC Taxi and Limousine Commission (LTC)___ [available data](http://www.nyc.gov/html/tlc/html/about/trip_record_data.shtml)."
   ]
  },
  {
   "cell_type": "code",
   "execution_count": 1,
   "metadata": {},
   "outputs": [],
   "source": [
    "import pandas as pd\n",
    "import numpy as np\n",
    "from time import time\n",
    "from multiprocessing import Pool"
   ]
  },
  {
   "cell_type": "markdown",
   "metadata": {},
   "source": [
    "## 1. Download Data\n",
    "\n",
    "Only download the `TARGET_COLUMNS` from the S3 repository. \n",
    "\n",
    "__Warning:__ Even with an excellent connection, it takes around __10 min__ to download the full year."
   ]
  },
  {
   "cell_type": "code",
   "execution_count": 2,
   "metadata": {},
   "outputs": [],
   "source": [
    "URL = \"https://s3.amazonaws.com/nyc-tlc/trip+data/\"\n",
    "\n",
    "TARGET_COLUMNS = ['tpep_pickup_datetime', 'PULocationID'] \n",
    "\n",
    "def get_month_dataset(month):\n",
    "    url = URL + \"yellow_tripdata_2017-{:0>2}.csv\".format(month)\n",
    "    print('--| ' + url)\n",
    "    now = time()\n",
    "    month_df = pd.read_csv(url, usecols=TARGET_COLUMNS)\n",
    "    print(month, '-->', int(time()-now), 'seconds\\n')\n",
    "    return month_df"
   ]
  },
  {
   "cell_type": "code",
   "execution_count": 3,
   "metadata": {},
   "outputs": [
    {
     "name": "stdout",
     "output_type": "stream",
     "text": [
      "--| https://s3.amazonaws.com/nyc-tlc/trip+data/yellow_tripdata_2017-01.csv\n",
      "--| https://s3.amazonaws.com/nyc-tlc/trip+data/yellow_tripdata_2017-03.csv\n",
      "--| https://s3.amazonaws.com/nyc-tlc/trip+data/yellow_tripdata_2017-02.csv\n",
      "--| https://s3.amazonaws.com/nyc-tlc/trip+data/yellow_tripdata_2017-04.csv\n",
      "--| https://s3.amazonaws.com/nyc-tlc/trip+data/yellow_tripdata_2017-05.csv\n",
      "4 --> 90 seconds\n",
      "\n",
      "--| https://s3.amazonaws.com/nyc-tlc/trip+data/yellow_tripdata_2017-06.csv\n",
      "3 --> 109 seconds\n",
      "\n",
      "--| https://s3.amazonaws.com/nyc-tlc/trip+data/yellow_tripdata_2017-07.csv\n",
      "2 --> 130 seconds\n",
      "\n",
      "--| https://s3.amazonaws.com/nyc-tlc/trip+data/yellow_tripdata_2017-08.csv\n",
      "1 --> 132 seconds\n",
      "\n",
      "--| https://s3.amazonaws.com/nyc-tlc/trip+data/yellow_tripdata_2017-09.csv\n",
      "5 --> 149 seconds\n",
      "\n",
      "--| https://s3.amazonaws.com/nyc-tlc/trip+data/yellow_tripdata_2017-10.csv\n",
      "8 --> 93 seconds\n",
      "\n",
      "--| https://s3.amazonaws.com/nyc-tlc/trip+data/yellow_tripdata_2017-11.csv\n",
      "9 --> 100 seconds\n",
      "\n",
      "--| https://s3.amazonaws.com/nyc-tlc/trip+data/yellow_tripdata_2017-12.csv\n",
      "6 --> 143 seconds\n",
      "\n",
      "7 --> 156 seconds\n",
      "\n",
      "11 --> 101 seconds\n",
      "\n",
      "10 --> 183 seconds\n",
      "\n",
      "12 --> 124 seconds\n",
      "\n",
      "CPU times: user 6.78 s, sys: 4.49 s, total: 11.3 s\n",
      "Wall time: 6min 3s\n"
     ]
    }
   ],
   "source": [
    "%%time\n",
    "\n",
    "p = Pool(5)\n",
    "months = list(p.map(get_month_dataset, range(1,13)))"
   ]
  },
  {
   "cell_type": "markdown",
   "metadata": {},
   "source": [
    "## 2. Data Preprocessing\n",
    "\n",
    "### 2.1 Build a single DataFrame\n",
    "\n",
    "Merge `months` into a single DataFrame: `yellow`."
   ]
  },
  {
   "cell_type": "code",
   "execution_count": 4,
   "metadata": {},
   "outputs": [],
   "source": [
    "yellow = pd.concat(months, ignore_index=True)\n",
    "\n",
    "del months # free memory\n",
    "\n",
    "yellow.columns = ['pickup_datetime', 'taxi_zone']"
   ]
  },
  {
   "cell_type": "markdown",
   "metadata": {},
   "source": [
    "### 2.2 Create an hourly timestamp\n",
    "\n",
    "Truncate `pickup_datetime` to groupby every trips that are starting from the same `taxi_zone` at the same hourly time."
   ]
  },
  {
   "cell_type": "code",
   "execution_count": 5,
   "metadata": {},
   "outputs": [],
   "source": [
    "# Convert to datetime\n",
    "yellow.pickup_datetime = pd.to_datetime(yellow.pickup_datetime, utc=True)\n",
    "\n",
    "# Truncate the datetime to groupby by hour each trip\n",
    "yellow.pickup_datetime = yellow.pickup_datetime.dt.floor('h')\n",
    "\n",
    "# Add column to count the number of trips in each taxi zone\n",
    "yellow['trip_counter'] = np.ones(yellow.shape[0])\n",
    "yellow = yellow.groupby(['pickup_datetime', 'taxi_zone']).sum()"
   ]
  },
  {
   "cell_type": "markdown",
   "metadata": {},
   "source": [
    "### 2.3 Index on time with NYC timezone\n",
    "Set `pickup_datetime` as index."
   ]
  },
  {
   "cell_type": "code",
   "execution_count": 6,
   "metadata": {},
   "outputs": [],
   "source": [
    "# Set NYC timezone\n",
    "yellow.reset_index(inplace=True)\n",
    "yellow.set_index('pickup_datetime', inplace=True)\n",
    "yellow.index = yellow.index.tz_convert('America/New_York')\n",
    "\n",
    "# Add timezone\n",
    "yellow['timezone'] = '-05:00'"
   ]
  },
  {
   "cell_type": "markdown",
   "metadata": {},
   "source": [
    "### 2.4 Last cleaning step\n",
    "Filter unwanted lines added retrospectively."
   ]
  },
  {
   "cell_type": "code",
   "execution_count": 7,
   "metadata": {},
   "outputs": [],
   "source": [
    "yellow = yellow['2017-01-01 00:00':'2017-12-31 23:00']"
   ]
  },
  {
   "cell_type": "markdown",
   "metadata": {},
   "source": [
    "## 3. Export Data"
   ]
  },
  {
   "cell_type": "code",
   "execution_count": 8,
   "metadata": {},
   "outputs": [],
   "source": [
    "PATH = '../data/' # Modify this to fit your data folder"
   ]
  },
  {
   "cell_type": "code",
   "execution_count": 9,
   "metadata": {},
   "outputs": [],
   "source": [
    "yellow.to_csv(PATH + 'yellow.csv', index=True)"
   ]
  },
  {
   "cell_type": "markdown",
   "metadata": {},
   "source": [
    "Now `yellow` is ready to be used by the `NYC_Yellow_Cabs_Main.ipynb` notebook."
   ]
  }
 ],
 "metadata": {
  "kernelspec": {
   "display_name": "Python 3",
   "language": "python",
   "name": "python3"
  },
  "language_info": {
   "codemirror_mode": {
    "name": "ipython",
    "version": 3
   },
   "file_extension": ".py",
   "mimetype": "text/x-python",
   "name": "python",
   "nbconvert_exporter": "python",
   "pygments_lexer": "ipython3",
   "version": "3.7.0"
  }
 },
 "nbformat": 4,
 "nbformat_minor": 2
}
