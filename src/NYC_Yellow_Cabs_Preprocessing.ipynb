{
 "cells": [
  {
   "cell_type": "markdown",
   "metadata": {},
   "source": [
    "# NYC Yellow cab dataset -- Preprocessing\n",
    "\n",
    "This notebook is provided to generate file `yellow.csv`. This file is already provided in the _data/_ folder. \n",
    "\n",
    "`yellow` contains the number of taxis hired for each `taxi_zone` at a hourly time for the whole year 2017. \n",
    "\n",
    "The `yellow` dataset is computed from the ___NYC Taxi and Limousine Commission (LTC)___ [available data](http://www.nyc.gov/html/tlc/html/about/trip_record_data.shtml)."
   ]
  },
  {
   "cell_type": "code",
   "execution_count": 1,
   "metadata": {},
   "outputs": [],
   "source": [
    "import pandas as pd\n",
    "import numpy as np\n",
    "from time import time\n",
    "from multiprocessing import Pool"
   ]
  },
  {
   "cell_type": "markdown",
   "metadata": {},
   "source": [
    "## 1. Download Data\n",
    "\n",
    "Only download the `TARGET_COLUMNS` from the S3 repository. \n",
    "\n",
    "__Warning:__ Even with an excellent connection, it takes around __10 min__ to download the full year."
   ]
  },
  {
   "cell_type": "code",
   "execution_count": 2,
   "metadata": {},
   "outputs": [],
   "source": [
    "URL = \"https://s3.amazonaws.com/nyc-tlc/trip+data/\"\n",
    "\n",
    "TARGET_COLUMNS = ['tpep_pickup_datetime', 'PULocationID'] \n",
    "\n",
    "def get_month_dataset(month):\n",
    "    url = URL + \"yellow_tripdata_2017-{:0>2}.csv\".format(month)\n",
    "    print('--| ' + url)\n",
    "    now = time()\n",
    "    month_df = pd.read_csv(url, usecols=TARGET_COLUMNS)\n",
    "    print(month, '-->', int(time()-now), 'seconds\\n')\n",
    "    return month_df"
   ]
  },
  {
   "cell_type": "code",
   "execution_count": 3,
   "metadata": {},
   "outputs": [
    {
     "name": "stdout",
     "output_type": "stream",
     "text": [
      "--| https://s3.amazonaws.com/nyc-tlc/trip+data/yellow_tripdata_2017-01.csv\n",
      "--| https://s3.amazonaws.com/nyc-tlc/trip+data/yellow_tripdata_2017-04.csv\n",
      "--| https://s3.amazonaws.com/nyc-tlc/trip+data/yellow_tripdata_2017-05.csv\n",
      "--| https://s3.amazonaws.com/nyc-tlc/trip+data/yellow_tripdata_2017-03.csv\n",
      "--| https://s3.amazonaws.com/nyc-tlc/trip+data/yellow_tripdata_2017-02.csv\n",
      "5 --> 56 seconds\n",
      "\n",
      "--| https://s3.amazonaws.com/nyc-tlc/trip+data/yellow_tripdata_2017-06.csv\n",
      "1 --> 87 seconds\n",
      "\n",
      "--| https://s3.amazonaws.com/nyc-tlc/trip+data/yellow_tripdata_2017-07.csv\n",
      "3 --> 91 seconds\n",
      "\n",
      "--| https://s3.amazonaws.com/nyc-tlc/trip+data/yellow_tripdata_2017-08.csv\n",
      "4 --> 103 seconds\n",
      "\n",
      "--| https://s3.amazonaws.com/nyc-tlc/trip+data/yellow_tripdata_2017-09.csv\n",
      "2 --> 126 seconds\n",
      "\n",
      "--| https://s3.amazonaws.com/nyc-tlc/trip+data/yellow_tripdata_2017-10.csv\n",
      "6 --> 131 seconds\n",
      "\n",
      "--| https://s3.amazonaws.com/nyc-tlc/trip+data/yellow_tripdata_2017-11.csv\n",
      "\n",
      "8 --> 96 seconds\n",
      "--| https://s3.amazonaws.com/nyc-tlc/trip+data/yellow_tripdata_2017-12.csv\n",
      "7 --> 115 seconds\n",
      "\n",
      "9 --> 105 seconds\n",
      "\n",
      "10 --> 102 seconds\n",
      "\n",
      "11 --> 88 seconds\n",
      "\n",
      "12 --> 353 seconds\n",
      "\n",
      "CPU times: user 9.93 s, sys: 6.78 s, total: 16.7 s\n",
      "Wall time: 9min 17s\n"
     ]
    }
   ],
   "source": [
    "%%time\n",
    "\n",
    "p = Pool(5)\n",
    "months = list(p.map(get_month_dataset, range(1,13)))"
   ]
  },
  {
   "cell_type": "markdown",
   "metadata": {},
   "source": [
    "## 2. Data Preprocessing\n",
    "\n",
    "### 2.1 Build a single DataFrame\n",
    "\n",
    "Merge `months` into a single DataFrame: `yellow`."
   ]
  },
  {
   "cell_type": "code",
   "execution_count": 4,
   "metadata": {},
   "outputs": [],
   "source": [
    "months = pd.concat(months, ignore_index=True)\n",
    "\n",
    "months.columns = ['pickup_datetime', 'taxi_zone']"
   ]
  },
  {
   "cell_type": "markdown",
   "metadata": {},
   "source": [
    "### 2.2 Create an hourly timestamp\n",
    "\n",
    "Truncate `pickup_datetime` to groupby every trips that are starting from the same `taxi_zone` at the same hourly time."
   ]
  },
  {
   "cell_type": "code",
   "execution_count": 5,
   "metadata": {},
   "outputs": [],
   "source": [
    "# Convert to datetime\n",
    "months.pickup_datetime = pd.to_datetime(months.pickup_datetime, utc=True)\n",
    "\n",
    "# Truncate the datetime to groupby by hour each trip\n",
    "months.pickup_datetime = months.pickup_datetime.dt.floor('h')\n",
    "\n",
    "# Add column to count the number of trips in each taxi zone\n",
    "months['trip_counter'] = np.ones(months.shape[0])\n",
    "months = months.groupby(['pickup_datetime', 'taxi_zone']).sum()"
   ]
  },
  {
   "cell_type": "markdown",
   "metadata": {},
   "source": [
    "### 2.3 Index on time with NYC timezone\n",
    "Set `pickup_datetime` as index."
   ]
  },
  {
   "cell_type": "code",
   "execution_count": 6,
   "metadata": {},
   "outputs": [],
   "source": [
    "# Set NYC timezone\n",
    "months.reset_index(inplace=True)\n",
    "months.set_index('pickup_datetime', inplace=True)\n",
    "months.index = months.index.tz_convert('America/New_York')"
   ]
  },
  {
   "cell_type": "markdown",
   "metadata": {},
   "source": [
    "### 2.4 Last cleaning step\n",
    "Filter unwanted lines added retrospectively."
   ]
  },
  {
   "cell_type": "code",
   "execution_count": 7,
   "metadata": {},
   "outputs": [],
   "source": [
    "months = months['2017-01-01 00:00':'2017-12-31 23:00']"
   ]
  },
  {
   "cell_type": "markdown",
   "metadata": {},
   "source": [
    "## 3. Reformat Dataframe"
   ]
  },
  {
   "cell_type": "code",
   "execution_count": 8,
   "metadata": {},
   "outputs": [],
   "source": [
    "nyc_zones = sorted(months.taxi_zone.unique())\n",
    "\n",
    "TIME_INDEX = pd.date_range(\"2017-01-01 00:00\", \"2017-12-31 23:00\", freq=\"h\", tz='America/New_York')\n",
    "\n",
    "yellow = pd.DataFrame(\n",
    "    data=['-05:00' for t in range(len(TIME_INDEX))],\n",
    "    index=TIME_INDEX,\n",
    "    columns=['timezone']\n",
    ")\n",
    "\n",
    "for z in nyc_zones:\n",
    "    zone = months[months.taxi_zone==z].trip_counter\n",
    "    zone = pd.DataFrame({z:zone})\n",
    "    yellow = yellow.join(zone, how='left')"
   ]
  },
  {
   "cell_type": "code",
   "execution_count": 9,
   "metadata": {},
   "outputs": [
    {
     "data": {
      "text/html": [
       "<div>\n",
       "<style scoped>\n",
       "    .dataframe tbody tr th:only-of-type {\n",
       "        vertical-align: middle;\n",
       "    }\n",
       "\n",
       "    .dataframe tbody tr th {\n",
       "        vertical-align: top;\n",
       "    }\n",
       "\n",
       "    .dataframe thead th {\n",
       "        text-align: right;\n",
       "    }\n",
       "</style>\n",
       "<table border=\"1\" class=\"dataframe\">\n",
       "  <thead>\n",
       "    <tr style=\"text-align: right;\">\n",
       "      <th></th>\n",
       "      <th>timezone</th>\n",
       "      <th>1</th>\n",
       "      <th>2</th>\n",
       "      <th>3</th>\n",
       "      <th>4</th>\n",
       "      <th>5</th>\n",
       "      <th>6</th>\n",
       "      <th>7</th>\n",
       "      <th>8</th>\n",
       "      <th>9</th>\n",
       "      <th>...</th>\n",
       "      <th>256</th>\n",
       "      <th>257</th>\n",
       "      <th>258</th>\n",
       "      <th>259</th>\n",
       "      <th>260</th>\n",
       "      <th>261</th>\n",
       "      <th>262</th>\n",
       "      <th>263</th>\n",
       "      <th>264</th>\n",
       "      <th>265</th>\n",
       "    </tr>\n",
       "  </thead>\n",
       "  <tbody>\n",
       "    <tr>\n",
       "      <th>2017-01-01 00:00:00-05:00</th>\n",
       "      <td>-05:00</td>\n",
       "      <td>2.0</td>\n",
       "      <td>0.0</td>\n",
       "      <td>0.0</td>\n",
       "      <td>54.0</td>\n",
       "      <td>0.0</td>\n",
       "      <td>0.0</td>\n",
       "      <td>66.0</td>\n",
       "      <td>0.0</td>\n",
       "      <td>0.0</td>\n",
       "      <td>...</td>\n",
       "      <td>50.0</td>\n",
       "      <td>1.0</td>\n",
       "      <td>0.0</td>\n",
       "      <td>2.0</td>\n",
       "      <td>49.0</td>\n",
       "      <td>23.0</td>\n",
       "      <td>35.0</td>\n",
       "      <td>133.0</td>\n",
       "      <td>135.0</td>\n",
       "      <td>13.0</td>\n",
       "    </tr>\n",
       "    <tr>\n",
       "      <th>2017-01-01 01:00:00-05:00</th>\n",
       "      <td>-05:00</td>\n",
       "      <td>2.0</td>\n",
       "      <td>0.0</td>\n",
       "      <td>0.0</td>\n",
       "      <td>36.0</td>\n",
       "      <td>0.0</td>\n",
       "      <td>0.0</td>\n",
       "      <td>54.0</td>\n",
       "      <td>1.0</td>\n",
       "      <td>0.0</td>\n",
       "      <td>...</td>\n",
       "      <td>30.0</td>\n",
       "      <td>0.0</td>\n",
       "      <td>4.0</td>\n",
       "      <td>2.0</td>\n",
       "      <td>31.0</td>\n",
       "      <td>17.0</td>\n",
       "      <td>49.0</td>\n",
       "      <td>106.0</td>\n",
       "      <td>86.0</td>\n",
       "      <td>10.0</td>\n",
       "    </tr>\n",
       "    <tr>\n",
       "      <th>2017-01-01 02:00:00-05:00</th>\n",
       "      <td>-05:00</td>\n",
       "      <td>2.0</td>\n",
       "      <td>0.0</td>\n",
       "      <td>0.0</td>\n",
       "      <td>28.0</td>\n",
       "      <td>0.0</td>\n",
       "      <td>0.0</td>\n",
       "      <td>42.0</td>\n",
       "      <td>0.0</td>\n",
       "      <td>0.0</td>\n",
       "      <td>...</td>\n",
       "      <td>6.0</td>\n",
       "      <td>0.0</td>\n",
       "      <td>0.0</td>\n",
       "      <td>0.0</td>\n",
       "      <td>16.0</td>\n",
       "      <td>14.0</td>\n",
       "      <td>72.0</td>\n",
       "      <td>92.0</td>\n",
       "      <td>80.0</td>\n",
       "      <td>6.0</td>\n",
       "    </tr>\n",
       "    <tr>\n",
       "      <th>2017-01-01 03:00:00-05:00</th>\n",
       "      <td>-05:00</td>\n",
       "      <td>0.0</td>\n",
       "      <td>0.0</td>\n",
       "      <td>0.0</td>\n",
       "      <td>36.0</td>\n",
       "      <td>0.0</td>\n",
       "      <td>0.0</td>\n",
       "      <td>26.0</td>\n",
       "      <td>0.0</td>\n",
       "      <td>0.0</td>\n",
       "      <td>...</td>\n",
       "      <td>7.0</td>\n",
       "      <td>0.0</td>\n",
       "      <td>1.0</td>\n",
       "      <td>0.0</td>\n",
       "      <td>7.0</td>\n",
       "      <td>10.0</td>\n",
       "      <td>75.0</td>\n",
       "      <td>105.0</td>\n",
       "      <td>66.0</td>\n",
       "      <td>4.0</td>\n",
       "    </tr>\n",
       "    <tr>\n",
       "      <th>2017-01-01 04:00:00-05:00</th>\n",
       "      <td>-05:00</td>\n",
       "      <td>0.0</td>\n",
       "      <td>0.0</td>\n",
       "      <td>0.0</td>\n",
       "      <td>34.0</td>\n",
       "      <td>0.0</td>\n",
       "      <td>0.0</td>\n",
       "      <td>33.0</td>\n",
       "      <td>0.0</td>\n",
       "      <td>0.0</td>\n",
       "      <td>...</td>\n",
       "      <td>4.0</td>\n",
       "      <td>1.0</td>\n",
       "      <td>0.0</td>\n",
       "      <td>0.0</td>\n",
       "      <td>14.0</td>\n",
       "      <td>28.0</td>\n",
       "      <td>97.0</td>\n",
       "      <td>131.0</td>\n",
       "      <td>91.0</td>\n",
       "      <td>2.0</td>\n",
       "    </tr>\n",
       "  </tbody>\n",
       "</table>\n",
       "<p>5 rows × 266 columns</p>\n",
       "</div>"
      ],
      "text/plain": [
       "                          timezone    1    2    3     4    5    6     7    8  \\\n",
       "2017-01-01 00:00:00-05:00   -05:00  2.0  0.0  0.0  54.0  0.0  0.0  66.0  0.0   \n",
       "2017-01-01 01:00:00-05:00   -05:00  2.0  0.0  0.0  36.0  0.0  0.0  54.0  1.0   \n",
       "2017-01-01 02:00:00-05:00   -05:00  2.0  0.0  0.0  28.0  0.0  0.0  42.0  0.0   \n",
       "2017-01-01 03:00:00-05:00   -05:00  0.0  0.0  0.0  36.0  0.0  0.0  26.0  0.0   \n",
       "2017-01-01 04:00:00-05:00   -05:00  0.0  0.0  0.0  34.0  0.0  0.0  33.0  0.0   \n",
       "\n",
       "                             9  ...    256  257  258  259   260   261   262  \\\n",
       "2017-01-01 00:00:00-05:00  0.0  ...   50.0  1.0  0.0  2.0  49.0  23.0  35.0   \n",
       "2017-01-01 01:00:00-05:00  0.0  ...   30.0  0.0  4.0  2.0  31.0  17.0  49.0   \n",
       "2017-01-01 02:00:00-05:00  0.0  ...    6.0  0.0  0.0  0.0  16.0  14.0  72.0   \n",
       "2017-01-01 03:00:00-05:00  0.0  ...    7.0  0.0  1.0  0.0   7.0  10.0  75.0   \n",
       "2017-01-01 04:00:00-05:00  0.0  ...    4.0  1.0  0.0  0.0  14.0  28.0  97.0   \n",
       "\n",
       "                             263    264   265  \n",
       "2017-01-01 00:00:00-05:00  133.0  135.0  13.0  \n",
       "2017-01-01 01:00:00-05:00  106.0   86.0  10.0  \n",
       "2017-01-01 02:00:00-05:00   92.0   80.0   6.0  \n",
       "2017-01-01 03:00:00-05:00  105.0   66.0   4.0  \n",
       "2017-01-01 04:00:00-05:00  131.0   91.0   2.0  \n",
       "\n",
       "[5 rows x 266 columns]"
      ]
     },
     "execution_count": 9,
     "metadata": {},
     "output_type": "execute_result"
    }
   ],
   "source": [
    "yellow.fillna(0, inplace=True)\n",
    "\n",
    "yellow.head()"
   ]
  },
  {
   "cell_type": "markdown",
   "metadata": {},
   "source": [
    "## 4. Export Data"
   ]
  },
  {
   "cell_type": "code",
   "execution_count": 10,
   "metadata": {},
   "outputs": [],
   "source": [
    "PATH = '../data/' # Modify this to fit your data folder"
   ]
  },
  {
   "cell_type": "code",
   "execution_count": 11,
   "metadata": {},
   "outputs": [],
   "source": [
    "yellow.to_csv(PATH + 'yellow.csv', index=True)"
   ]
  },
  {
   "cell_type": "markdown",
   "metadata": {},
   "source": [
    "Now `yellow` is ready to be used by the `NYC_Yellow_Cabs_Main.ipynb` notebook."
   ]
  }
 ],
 "metadata": {
  "kernelspec": {
   "display_name": "Python 3",
   "language": "python",
   "name": "python3"
  },
  "language_info": {
   "codemirror_mode": {
    "name": "ipython",
    "version": 3
   },
   "file_extension": ".py",
   "mimetype": "text/x-python",
   "name": "python",
   "nbconvert_exporter": "python",
   "pygments_lexer": "ipython3",
   "version": "3.7.0"
  }
 },
 "nbformat": 4,
 "nbformat_minor": 2
}
