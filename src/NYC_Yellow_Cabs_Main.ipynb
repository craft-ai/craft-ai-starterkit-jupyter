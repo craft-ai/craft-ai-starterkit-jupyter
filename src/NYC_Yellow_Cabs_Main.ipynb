{
 "cells": [
  {
   "cell_type": "markdown",
   "metadata": {},
   "source": [
    "# NYC Yellow cab dataset -- Main\n",
    "\n",
    "\n",
    "This notebook aims at giving to the user a `craftai.pandas` use case.\n",
    "\n",
    "This use case is based on the dataset `yellow.csv` located in the directory _data/_. (It is possible to regenerate this dataset by using the notebook `NYC_Yellow_Cabs_Preprocessing.ipynb`.)\n",
    "\n",
    "`yellow.csv` has been extracted from the data available on the ___NYC Taxi and Limousine Commission (LTC)___ [webpage](http://www.nyc.gov/html/tlc/html/about/trip_record_data.shtml)."
   ]
  },
  {
   "cell_type": "code",
   "execution_count": 1,
   "metadata": {},
   "outputs": [],
   "source": [
    "import craftai.pandas\n",
    "import pandas as pd\n",
    "import numpy as np\n",
    "\n",
    "import os\n",
    "from time import time\n",
    "from multiprocessing import Pool"
   ]
  },
  {
   "cell_type": "markdown",
   "metadata": {},
   "source": [
    "## 1. Load `yellow` Dataset\n",
    "\n",
    "`yellow` contains the number of yellow taxis hired for each `taxi_zone` at a hourly time for the whole year 2017. "
   ]
  },
  {
   "cell_type": "code",
   "execution_count": 4,
   "metadata": {},
   "outputs": [],
   "source": [
    "PATH = '../data/' # Modify this to fit your data folder"
   ]
  },
  {
   "cell_type": "code",
   "execution_count": 5,
   "metadata": {},
   "outputs": [],
   "source": [
    "yellow = pd.read_csv(PATH + 'yellow.csv')\n",
    "\n",
    "# Index on time\n",
    "yellow.pickup_datetime = pd.to_datetime(yellow.pickup_datetime, utc=True)\n",
    "yellow.set_index('pickup_datetime', drop=True, inplace=True)\n",
    "\n",
    "# Set NYC timezone\n",
    "yellow.index = yellow.index.tz_convert('America/New_York')"
   ]
  },
  {
   "cell_type": "code",
   "execution_count": 6,
   "metadata": {},
   "outputs": [
    {
     "data": {
      "text/html": [
       "<div>\n",
       "<style scoped>\n",
       "    .dataframe tbody tr th:only-of-type {\n",
       "        vertical-align: middle;\n",
       "    }\n",
       "\n",
       "    .dataframe tbody tr th {\n",
       "        vertical-align: top;\n",
       "    }\n",
       "\n",
       "    .dataframe thead th {\n",
       "        text-align: right;\n",
       "    }\n",
       "</style>\n",
       "<table border=\"1\" class=\"dataframe\">\n",
       "  <thead>\n",
       "    <tr style=\"text-align: right;\">\n",
       "      <th></th>\n",
       "      <th>taxi_zone</th>\n",
       "      <th>trip_counter</th>\n",
       "      <th>timezone</th>\n",
       "    </tr>\n",
       "    <tr>\n",
       "      <th>pickup_datetime</th>\n",
       "      <th></th>\n",
       "      <th></th>\n",
       "      <th></th>\n",
       "    </tr>\n",
       "  </thead>\n",
       "  <tbody>\n",
       "    <tr>\n",
       "      <th>2017-01-01 00:00:00-05:00</th>\n",
       "      <td>1</td>\n",
       "      <td>2.0</td>\n",
       "      <td>-05:00</td>\n",
       "    </tr>\n",
       "    <tr>\n",
       "      <th>2017-01-01 00:00:00-05:00</th>\n",
       "      <td>4</td>\n",
       "      <td>54.0</td>\n",
       "      <td>-05:00</td>\n",
       "    </tr>\n",
       "    <tr>\n",
       "      <th>2017-01-01 00:00:00-05:00</th>\n",
       "      <td>7</td>\n",
       "      <td>66.0</td>\n",
       "      <td>-05:00</td>\n",
       "    </tr>\n",
       "  </tbody>\n",
       "</table>\n",
       "</div>"
      ],
      "text/plain": [
       "                           taxi_zone  trip_counter timezone\n",
       "pickup_datetime                                            \n",
       "2017-01-01 00:00:00-05:00          1           2.0   -05:00\n",
       "2017-01-01 00:00:00-05:00          4          54.0   -05:00\n",
       "2017-01-01 00:00:00-05:00          7          66.0   -05:00"
      ]
     },
     "execution_count": 6,
     "metadata": {},
     "output_type": "execute_result"
    }
   ],
   "source": [
    "yellow.head(3)"
   ]
  },
  {
   "cell_type": "code",
   "execution_count": null,
   "metadata": {},
   "outputs": [],
   "source": []
  },
  {
   "cell_type": "markdown",
   "metadata": {},
   "source": [
    "## 2. Focus on Bronx areas (Recommended)\n",
    "\n",
    "__If you want to compute all the taxi zones, skip the following cell.__\n",
    "\n",
    "To gain computation time, we only focus on 5 of the 43 Bronx taxi zones.\n",
    "\n",
    "<img src=\"http://www.nyc.gov/html/tlc/images/features/taxi_zone_map_bronx.jpg\" title=\"Bronx Taxi Zones\" alt=\"Bronx Taxi Zones\" style=\"width: 300px;\"/>\n",
    "\n",
    "The selected taxi zones are the following: $126$, $147$, $159$, $168$, $247$."
   ]
  },
  {
   "cell_type": "code",
   "execution_count": 5,
   "metadata": {},
   "outputs": [],
   "source": [
    "selected_zones = [126, 147, 159, 168, 247] # Modify this list to fit your needs\n",
    "\n",
    "# filter dataset by selected_zones\n",
    "yellow = yellow[yellow.taxi_zone.isin(selected_zones)]"
   ]
  },
  {
   "cell_type": "markdown",
   "metadata": {},
   "source": [
    "To go more in details during this filtering step your can check the correspondences between `Borough`s and `taxi_zone`s (= `LocationID`) with the following lines:\n",
    "\n",
    "```\n",
    "nyc_zones = pd.read_csv('data/taxi_zone_lookup.csv', usecols=['LocationID', 'Borough'])\n",
    "boroughs = nyc_zones.Borough.unique()\n",
    "bronx_zones = nyc_zones[nyc_zones.Borough == 'Bronx'].LocationID.unique()\n",
    "```"
   ]
  },
  {
   "cell_type": "markdown",
   "metadata": {},
   "source": [
    "## 3. Build Agent Datasets\n",
    "\n",
    "In this notebook each `taxi_zone` is computed independently by a Craft AI Agent. In other words, each Agent learns independently from a `taxi_zone` historical records to predict taxi needs in this specific area.\n",
    "\n",
    "So each Agent only need to have a `taxi_zone` filtered dataframe."
   ]
  },
  {
   "cell_type": "code",
   "execution_count": 6,
   "metadata": {},
   "outputs": [],
   "source": [
    "TIME_INDEX = pd.date_range(\"2017-01-01 00:00\", \"2017-12-31 23:00\", freq=\"h\", tz='America/New_York')\n",
    "\n",
    "def build_agent_df(taxi_zone):\n",
    "    \"\"\" Filter the yellow dataset by the given taxi_zone\n",
    "    \"\"\"\n",
    "    \n",
    "    trips = []\n",
    "    data = yellow[yellow.taxi_zone == taxi_zone]\n",
    "    \n",
    "    for t in TIME_INDEX:\n",
    "        if t in data.index:\n",
    "            trips.append(data.trip_counter[data.index == t].values[0])\n",
    "        else:\n",
    "            trips.append(0)\n",
    "            \n",
    "    print('--| Zone', taxi_zone, 'ready')\n",
    "    agent_id = \"taxi_zone_{:0>3}\".format(taxi_zone)\n",
    "    return agent_id, {'data': pd.DataFrame(data={'trip_counter':trips, 'timezone':'-05:00'}, index=TIME_INDEX)}"
   ]
  },
  {
   "cell_type": "code",
   "execution_count": 7,
   "metadata": {
    "scrolled": true
   },
   "outputs": [
    {
     "name": "stdout",
     "output_type": "stream",
     "text": [
      "--| Zone 126 ready\n",
      "--| Zone 147 ready\n",
      "--| Zone 159 ready\n",
      "--| Zone 247 ready\n",
      "--| Zone 168 ready\n",
      "CPU times: user 38.7 ms, sys: 101 ms, total: 140 ms\n",
      "Wall time: 3.36 s\n"
     ]
    }
   ],
   "source": [
    "%%time \n",
    "\n",
    "p = Pool(10)\n",
    "agents = dict(p.map(build_agent_df, yellow.taxi_zone.unique()))"
   ]
  },
  {
   "cell_type": "code",
   "execution_count": 8,
   "metadata": {},
   "outputs": [],
   "source": [
    "agent_ids = list(agents.keys())\n",
    "\n",
    "del yellow # free memory "
   ]
  },
  {
   "cell_type": "markdown",
   "metadata": {},
   "source": [
    "## 2. Connect to craftai api\n",
    "\n",
    "Open a link to the Craft AI API by creating a `client` based on user's token."
   ]
  },
  {
   "cell_type": "code",
   "execution_count": 9,
   "metadata": {},
   "outputs": [],
   "source": [
    "client = craftai.pandas.Client({\n",
    "  \"token\": os.environ.get(\"CRAFT_TOKEN\")\n",
    "})"
   ]
  },
  {
   "cell_type": "markdown",
   "metadata": {},
   "source": [
    "## 3. Create Agents\n",
    "\n",
    "As mentionned above, each agent deals with a single `taxi_zone`.\n",
    "\n",
    "### 3.1 Setup the configuration"
   ]
  },
  {
   "cell_type": "code",
   "execution_count": 10,
   "metadata": {},
   "outputs": [],
   "source": [
    "# CONFIGURATION is the same for all agents\n",
    "CONFIGURATION = {\n",
    "    \"context\": {\n",
    "        \"day_of_week\": {                # feature generated by the API from the DataFrame index \n",
    "            \"type\" : \"day_of_week\"\n",
    "        },\n",
    "        \"time\": {                       # feature generated by the API from the DataFrame index\n",
    "            \"type\": \"time_of_day\"\n",
    "        },\n",
    "        \"timezone\": {                   # timezone for trip_counter      \n",
    "            \"type\" : \"timezone\",        \n",
    "        },\n",
    "        \"trip_counter\": {               # taxi trips counter            \n",
    "            \"type\": \"continuous\"\n",
    "        }\n",
    "    },\n",
    "    \"output\": [\"trip_counter\"],         # the output is continuous\n",
    "}\n",
    "\n",
    "def create_agent(agent_id):\n",
    "    \"\"\" Initiate Agent with the given id\n",
    "    \"\"\"\n",
    "    \n",
    "    # Delete older version of the agent\n",
    "    client.delete_agent(agent_id)\n",
    "\n",
    "    # Add the new agent\n",
    "    agent = client.create_agent(CONFIGURATION, agent_id)\n",
    "    agents[agent_id]['agent'] = agent\n",
    "    print(\"Agent\", agent[\"id\"], \"has successfully been created\")\n",
    "    "
   ]
  },
  {
   "cell_type": "code",
   "execution_count": 11,
   "metadata": {},
   "outputs": [
    {
     "name": "stdout",
     "output_type": "stream",
     "text": [
      "Agent taxi_zone_126 has successfully been created\n",
      "Agent taxi_zone_147 has successfully been created\n",
      "Agent taxi_zone_159 has successfully been created\n",
      "Agent taxi_zone_168 has successfully been created\n",
      "Agent taxi_zone_247 has successfully been created\n",
      "CPU times: user 90.5 ms, sys: 23.3 ms, total: 114 ms\n",
      "Wall time: 948 ms\n"
     ]
    },
    {
     "data": {
      "text/plain": [
       "False"
      ]
     },
     "execution_count": 11,
     "metadata": {},
     "output_type": "execute_result"
    }
   ],
   "source": [
    "%%time\n",
    "\n",
    "any(map(create_agent, agent_ids))"
   ]
  },
  {
   "cell_type": "markdown",
   "metadata": {},
   "source": [
    "### 3.2 Add Agent operations\n",
    "\n",
    "Associate to each Agent its dataframe."
   ]
  },
  {
   "cell_type": "code",
   "execution_count": 12,
   "metadata": {},
   "outputs": [],
   "source": [
    "add_operations = lambda agent_id : print(\n",
    "    client.add_operations(agent_id, agents[agent_id]['data'])['message'])"
   ]
  },
  {
   "cell_type": "code",
   "execution_count": 13,
   "metadata": {},
   "outputs": [
    {
     "name": "stdout",
     "output_type": "stream",
     "text": [
      "Successfully added 8760 operation(s) to the agent \"yrieix.leprince/NYC-taxi/taxi_zone_126\" context.\n",
      "Successfully added 8760 operation(s) to the agent \"yrieix.leprince/NYC-taxi/taxi_zone_147\" context.\n",
      "Successfully added 8760 operation(s) to the agent \"yrieix.leprince/NYC-taxi/taxi_zone_159\" context.\n",
      "Successfully added 8760 operation(s) to the agent \"yrieix.leprince/NYC-taxi/taxi_zone_168\" context.\n",
      "Successfully added 8760 operation(s) to the agent \"yrieix.leprince/NYC-taxi/taxi_zone_247\" context.\n",
      "CPU times: user 8.74 s, sys: 61.9 ms, total: 8.8 s\n",
      "Wall time: 15.9 s\n"
     ]
    },
    {
     "data": {
      "text/plain": [
       "False"
      ]
     },
     "execution_count": 13,
     "metadata": {},
     "output_type": "execute_result"
    }
   ],
   "source": [
    "%%time\n",
    "\n",
    "any(map(add_operations, agent_ids))"
   ]
  },
  {
   "cell_type": "markdown",
   "metadata": {},
   "source": [
    "### 3.3 Retrieve Last Decision Tree\n",
    "\n",
    "Each Agent learns from its operations. Then we ask the API for the last Decision Tree.\n",
    "\n",
    "__This step is the most time consuming.__\n",
    "\n",
    "__TODO__ use asynchrone request to the API: https://docs.python.org/3/library/asyncio.html."
   ]
  },
  {
   "cell_type": "code",
   "execution_count": 14,
   "metadata": {},
   "outputs": [],
   "source": [
    "TS = agents[agent_ids[0]]['data'].index.astype(np.int64).values[-1] // 10**9 #get last timestamp\n",
    "\n",
    "\n",
    "def get_DT(agent_id):\n",
    "    \"\"\" Retrieve the last Decision Tree from the API\n",
    "    \"\"\"\n",
    "    \n",
    "    now = time()\n",
    "    agents[agent_id]['tree'] = client.get_decision_tree(agent_id, timestamp=TS)\n",
    "    print('DT', agent_id, '--> ok | ', int(time() - now), 'seconds.')"
   ]
  },
  {
   "cell_type": "code",
   "execution_count": 15,
   "metadata": {},
   "outputs": [
    {
     "name": "stdout",
     "output_type": "stream",
     "text": [
      "DT taxi_zone_126 --> ok |  55 seconds.\n",
      "DT taxi_zone_147 --> ok |  31 seconds.\n",
      "DT taxi_zone_159 --> ok |  50 seconds.\n",
      "DT taxi_zone_168 --> ok |  48 seconds.\n",
      "DT taxi_zone_247 --> ok |  32 seconds.\n",
      "CPU times: user 381 ms, sys: 110 ms, total: 491 ms\n",
      "Wall time: 3min 39s\n"
     ]
    },
    {
     "data": {
      "text/plain": [
       "False"
      ]
     },
     "execution_count": 15,
     "metadata": {},
     "output_type": "execute_result"
    }
   ],
   "source": [
    "%%time\n",
    "\n",
    "any(map(get_DT, agent_ids))"
   ]
  },
  {
   "cell_type": "markdown",
   "metadata": {},
   "source": [
    "## 4. Decision \n",
    "\n",
    "For a given timestamp (here _2018-01-01 00:00_), ask each Agent to make a prediction."
   ]
  },
  {
   "cell_type": "markdown",
   "metadata": {},
   "source": [
    "### 4.1 Decision Dataframe setup"
   ]
  },
  {
   "cell_type": "code",
   "execution_count": 16,
   "metadata": {},
   "outputs": [
    {
     "data": {
      "text/html": [
       "<div>\n",
       "<style scoped>\n",
       "    .dataframe tbody tr th:only-of-type {\n",
       "        vertical-align: middle;\n",
       "    }\n",
       "\n",
       "    .dataframe tbody tr th {\n",
       "        vertical-align: top;\n",
       "    }\n",
       "\n",
       "    .dataframe thead th {\n",
       "        text-align: right;\n",
       "    }\n",
       "</style>\n",
       "<table border=\"1\" class=\"dataframe\">\n",
       "  <thead>\n",
       "    <tr style=\"text-align: right;\">\n",
       "      <th></th>\n",
       "      <th>timezone</th>\n",
       "    </tr>\n",
       "  </thead>\n",
       "  <tbody>\n",
       "    <tr>\n",
       "      <th>2018-01-01 00:00:00-05:00</th>\n",
       "      <td>-05:00</td>\n",
       "    </tr>\n",
       "  </tbody>\n",
       "</table>\n",
       "</div>"
      ],
      "text/plain": [
       "                          timezone\n",
       "2018-01-01 00:00:00-05:00   -05:00"
      ]
     },
     "execution_count": 16,
     "metadata": {},
     "output_type": "execute_result"
    }
   ],
   "source": [
    "# DECISION_DF is the same for all Agents as we want to compare taxi zones\n",
    "DECISION_DF = pd.DataFrame(\n",
    "    ['-05:00'],\n",
    "    columns=['timezone'],\n",
    "    index=pd.date_range(\"2018-01-01 00:00\", periods=1, freq=\"h\").tz_localize(\"America/New_York\")\n",
    ")\n",
    "\n",
    "DECISION_DF.head()"
   ]
  },
  {
   "cell_type": "markdown",
   "metadata": {},
   "source": [
    "### 4.2 Make Decision\n",
    "\n",
    "Ask each Agent to estimate the taxi need for their own `taxi_zone` thanks to the `DECISION_DF`."
   ]
  },
  {
   "cell_type": "code",
   "execution_count": 17,
   "metadata": {},
   "outputs": [],
   "source": [
    "def agent_decide(agent_id):\n",
    "    tree = agents[agent_id]['tree']\n",
    "    decision = client.decide_from_contexts_df(tree, DECISION_DF)\n",
    "    agents[agent_id]['decision'] = decision\n",
    "    print('--| Decision ok for ', agent_id)"
   ]
  },
  {
   "cell_type": "code",
   "execution_count": 18,
   "metadata": {},
   "outputs": [
    {
     "name": "stdout",
     "output_type": "stream",
     "text": [
      "--| Decision ok for  taxi_zone_126\n",
      "--| Decision ok for  taxi_zone_147\n",
      "--| Decision ok for  taxi_zone_159\n",
      "--| Decision ok for  taxi_zone_168\n",
      "--| Decision ok for  taxi_zone_247\n",
      "CPU times: user 51 ms, sys: 163 µs, total: 51.2 ms\n",
      "Wall time: 48.1 ms\n"
     ]
    },
    {
     "data": {
      "text/plain": [
       "False"
      ]
     },
     "execution_count": 18,
     "metadata": {},
     "output_type": "execute_result"
    }
   ],
   "source": [
    "%%time\n",
    "\n",
    "any(map(agent_decide, agent_ids))"
   ]
  },
  {
   "cell_type": "markdown",
   "metadata": {},
   "source": [
    "## 5. Evaluate Best Taxi Zone \n",
    "\n",
    "Based on all Agents estimations, find the `taxi_zone` with the most persons looking for a taxi. "
   ]
  },
  {
   "cell_type": "code",
   "execution_count": 19,
   "metadata": {},
   "outputs": [],
   "source": [
    "get_value = lambda df : df.iloc[0].trip_counter_predicted_value"
   ]
  },
  {
   "cell_type": "code",
   "execution_count": 20,
   "metadata": {},
   "outputs": [
    {
     "name": "stdout",
     "output_type": "stream",
     "text": [
      "--| taxi_zone_126 0.0\n",
      "--| taxi_zone_147 0.0\n",
      "--| taxi_zone_159 0.3\n",
      "--| taxi_zone_168 2.4\n",
      "--| taxi_zone_247 1.0\n"
     ]
    }
   ],
   "source": [
    "# Initiate\n",
    "best_agent = list(agent_ids)[0]\n",
    "max_value = get_value(agents[best_agent]['decision'])\n",
    "\n",
    "# Search for the best taxi_zone\n",
    "for agent_id in list(agent_ids):\n",
    "    agent_value = get_value(agents[agent_id]['decision'])\n",
    "    print('--|', agent_id, int(agent_value*10)/10)\n",
    "    if agent_value > max_value:\n",
    "        max_value = agent_value\n",
    "        best_agent = agent_id"
   ]
  },
  {
   "cell_type": "markdown",
   "metadata": {},
   "source": [
    "__Result:__"
   ]
  },
  {
   "cell_type": "code",
   "execution_count": 21,
   "metadata": {},
   "outputs": [
    {
     "name": "stdout",
     "output_type": "stream",
     "text": [
      "Best Taxi Zone: taxi_zone_168\n",
      "Number of clients: 2.4\n"
     ]
    }
   ],
   "source": [
    "print('Best Taxi Zone:', best_agent)\n",
    "print('Number of clients:', int(max_value*10)/10)"
   ]
  },
  {
   "cell_type": "markdown",
   "metadata": {},
   "source": [
    "## 6. Summary\n",
    "\n",
    "By using the Craft AI API and NYC yellow taxis 2017 data, we have been able to find NY areas where it is the most likely to need taxis."
   ]
  },
  {
   "cell_type": "code",
   "execution_count": null,
   "metadata": {},
   "outputs": [],
   "source": []
  }
 ],
 "metadata": {
  "kernelspec": {
   "display_name": "Python 3",
   "language": "python",
   "name": "python3"
  },
  "language_info": {
   "codemirror_mode": {
    "name": "ipython",
    "version": 3
   },
   "file_extension": ".py",
   "mimetype": "text/x-python",
   "name": "python",
   "nbconvert_exporter": "python",
   "pygments_lexer": "ipython3",
   "version": "3.7.0"
  }
 },
 "nbformat": 4,
 "nbformat_minor": 2
}
