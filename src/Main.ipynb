{
 "cells": [
  {
   "cell_type": "markdown",
   "metadata": {},
   "source": [
    "# Main\n",
    "\n",
    "This jupyter notebook aims at giving a `craft_ai.pandas` use case to the user.\n",
    "\n",
    "The work is based on the dataset `yellow.csv` located in the directory _data/_. (It is possible to regenerate this dataset by using the notebook `Preprocessing.ipynb`.)\n",
    "\n",
    "`yellow.csv` has been extracted from the data available on the ___NYC Taxi and Limousine Commission (LTC)___ [webpage](https://www1.nyc.gov/site/tlc/about/tlc-trip-record-data.page).\n",
    "\n",
    "__Goal__:\n",
    "The user is a NYC taxi driver who wants to know in the next hours where to drive to maximize his chances to find a client. "
   ]
  },
  {
   "cell_type": "code",
   "execution_count": 1,
   "metadata": {
    "ExecuteTime": {
     "end_time": "2018-07-25T09:45:27.532580Z",
     "start_time": "2018-07-25T09:45:24.377550Z"
    }
   },
   "outputs": [],
   "source": [
    "import craft_ai.pandas\n",
    "import pandas as pd\n",
    "import numpy as np\n",
    "import os\n",
    "\n",
    "from Tools import plot_zone_results, plot_matshow\n",
    "\n",
    "import matplotlib.pyplot as plt"
   ]
  },
  {
   "cell_type": "code",
   "execution_count": 2,
   "metadata": {
    "ExecuteTime": {
     "end_time": "2018-07-25T09:45:29.689847Z",
     "start_time": "2018-07-25T09:45:29.681855Z"
    }
   },
   "outputs": [],
   "source": [
    "FIGSIZE = (17, 5)\n",
    "FONT = {\"family\": \"sans-serif\", \"weight\": \"normal\", \"size\": 16}"
   ]
  },
  {
   "cell_type": "markdown",
   "metadata": {},
   "source": [
    "## 1. `Yellow` dataset handling\n",
    "\n",
    "### 1.1. Load `yellow` Dataset\n",
    "\n",
    "`yellow` contains the number of yellow taxis hired for each `taxi_zone` at a hourly time for the whole year 2017.\n",
    "Columns names refer to zone ids, and the whole dataframe is indexed on time. The column `timezone` is needed to indicate the index timezone (which is New York)."
   ]
  },
  {
   "cell_type": "code",
   "execution_count": 3,
   "metadata": {
    "ExecuteTime": {
     "end_time": "2018-07-25T09:45:35.323996Z",
     "start_time": "2018-07-25T09:45:35.318894Z"
    }
   },
   "outputs": [],
   "source": [
    "PATH = '../data/' # Modify this to fit your data folder"
   ]
  },
  {
   "cell_type": "code",
   "execution_count": 4,
   "metadata": {
    "ExecuteTime": {
     "end_time": "2018-07-25T09:45:37.784080Z",
     "start_time": "2018-07-25T09:45:36.654638Z"
    }
   },
   "outputs": [
    {
     "data": {
      "text/html": [
       "<div>\n",
       "<style scoped>\n",
       "    .dataframe tbody tr th:only-of-type {\n",
       "        vertical-align: middle;\n",
       "    }\n",
       "\n",
       "    .dataframe tbody tr th {\n",
       "        vertical-align: top;\n",
       "    }\n",
       "\n",
       "    .dataframe thead th {\n",
       "        text-align: right;\n",
       "    }\n",
       "</style>\n",
       "<table border=\"1\" class=\"dataframe\">\n",
       "  <thead>\n",
       "    <tr style=\"text-align: right;\">\n",
       "      <th></th>\n",
       "      <th>timezone</th>\n",
       "      <th>1</th>\n",
       "      <th>2</th>\n",
       "      <th>3</th>\n",
       "      <th>4</th>\n",
       "      <th>5</th>\n",
       "      <th>6</th>\n",
       "      <th>7</th>\n",
       "      <th>8</th>\n",
       "      <th>9</th>\n",
       "      <th>...</th>\n",
       "      <th>256</th>\n",
       "      <th>257</th>\n",
       "      <th>258</th>\n",
       "      <th>259</th>\n",
       "      <th>260</th>\n",
       "      <th>261</th>\n",
       "      <th>262</th>\n",
       "      <th>263</th>\n",
       "      <th>264</th>\n",
       "      <th>265</th>\n",
       "    </tr>\n",
       "    <tr>\n",
       "      <th>timestamp</th>\n",
       "      <th></th>\n",
       "      <th></th>\n",
       "      <th></th>\n",
       "      <th></th>\n",
       "      <th></th>\n",
       "      <th></th>\n",
       "      <th></th>\n",
       "      <th></th>\n",
       "      <th></th>\n",
       "      <th></th>\n",
       "      <th></th>\n",
       "      <th></th>\n",
       "      <th></th>\n",
       "      <th></th>\n",
       "      <th></th>\n",
       "      <th></th>\n",
       "      <th></th>\n",
       "      <th></th>\n",
       "      <th></th>\n",
       "      <th></th>\n",
       "      <th></th>\n",
       "    </tr>\n",
       "  </thead>\n",
       "  <tbody>\n",
       "    <tr>\n",
       "      <th>2017-01-01 00:00:00-05:00</th>\n",
       "      <td>-05:00</td>\n",
       "      <td>2.0</td>\n",
       "      <td>0.0</td>\n",
       "      <td>0.0</td>\n",
       "      <td>54.0</td>\n",
       "      <td>0.0</td>\n",
       "      <td>0.0</td>\n",
       "      <td>66.0</td>\n",
       "      <td>0.0</td>\n",
       "      <td>0.0</td>\n",
       "      <td>...</td>\n",
       "      <td>50.0</td>\n",
       "      <td>1.0</td>\n",
       "      <td>0.0</td>\n",
       "      <td>2.0</td>\n",
       "      <td>49.0</td>\n",
       "      <td>23.0</td>\n",
       "      <td>35.0</td>\n",
       "      <td>133.0</td>\n",
       "      <td>135.0</td>\n",
       "      <td>13.0</td>\n",
       "    </tr>\n",
       "    <tr>\n",
       "      <th>2017-01-01 01:00:00-05:00</th>\n",
       "      <td>-05:00</td>\n",
       "      <td>2.0</td>\n",
       "      <td>0.0</td>\n",
       "      <td>0.0</td>\n",
       "      <td>36.0</td>\n",
       "      <td>0.0</td>\n",
       "      <td>0.0</td>\n",
       "      <td>54.0</td>\n",
       "      <td>1.0</td>\n",
       "      <td>0.0</td>\n",
       "      <td>...</td>\n",
       "      <td>30.0</td>\n",
       "      <td>0.0</td>\n",
       "      <td>4.0</td>\n",
       "      <td>2.0</td>\n",
       "      <td>31.0</td>\n",
       "      <td>17.0</td>\n",
       "      <td>49.0</td>\n",
       "      <td>106.0</td>\n",
       "      <td>86.0</td>\n",
       "      <td>10.0</td>\n",
       "    </tr>\n",
       "  </tbody>\n",
       "</table>\n",
       "<p>2 rows × 266 columns</p>\n",
       "</div>"
      ],
      "text/plain": [
       "                          timezone    1    2    3     4    5    6     7    8  \\\n",
       "timestamp                                                                      \n",
       "2017-01-01 00:00:00-05:00   -05:00  2.0  0.0  0.0  54.0  0.0  0.0  66.0  0.0   \n",
       "2017-01-01 01:00:00-05:00   -05:00  2.0  0.0  0.0  36.0  0.0  0.0  54.0  1.0   \n",
       "\n",
       "                             9  ...   256  257  258  259   260   261   262  \\\n",
       "timestamp                       ...                                          \n",
       "2017-01-01 00:00:00-05:00  0.0  ...  50.0  1.0  0.0  2.0  49.0  23.0  35.0   \n",
       "2017-01-01 01:00:00-05:00  0.0  ...  30.0  0.0  4.0  2.0  31.0  17.0  49.0   \n",
       "\n",
       "                             263    264   265  \n",
       "timestamp                                      \n",
       "2017-01-01 00:00:00-05:00  133.0  135.0  13.0  \n",
       "2017-01-01 01:00:00-05:00  106.0   86.0  10.0  \n",
       "\n",
       "[2 rows x 266 columns]"
      ]
     },
     "execution_count": 4,
     "metadata": {},
     "output_type": "execute_result"
    }
   ],
   "source": [
    "yellow = pd.read_csv(PATH + \"yellow.csv\")\n",
    "yellow.columns = yellow.columns[1:].insert(0, \"timestamp\")\n",
    "yellow.timestamp = pd.to_datetime(yellow.timestamp, utc=True)\n",
    "yellow.set_index(\"timestamp\", drop=True, inplace=True)\n",
    "yellow.index = yellow.index.tz_convert(\"America/New_York\")\n",
    "\n",
    "yellow.head(2)"
   ]
  },
  {
   "cell_type": "markdown",
   "metadata": {},
   "source": [
    "### 1.2. Focus on Queens areas (Recommended)\n",
    "\n",
    "__If you want to compute all the taxi zones, skip the following cell.__\n",
    "\n",
    "To save computation time, we only focus on 5 of the 69 Queens taxi zones.\n",
    "\n",
    "<img src=\"http://www.nyc.gov/html/tlc/images/features/taxi_zone_map_queens.jpg\" title=\"Queens Taxi Zones\" alt=\"Bronx Taxi Zones\" style=\"width: 300px;\"/>\n",
    "\n",
    "The selected taxi zones are the following: $7$, $145$, $146$, $193$, $226$ (NW areas)."
   ]
  },
  {
   "cell_type": "code",
   "execution_count": 5,
   "metadata": {
    "ExecuteTime": {
     "end_time": "2018-07-25T09:46:04.451259Z",
     "start_time": "2018-07-25T09:46:04.437421Z"
    }
   },
   "outputs": [],
   "source": [
    "selected_zones = [7, 145, 146, 193, 226] # Modify this list to fit your needs\n",
    "selected_zones_str = [str(z) for z in selected_zones]\n",
    "\n",
    "columns = [\"timezone\"] + selected_zones_str\n",
    "yellow = yellow[columns]"
   ]
  },
  {
   "cell_type": "markdown",
   "metadata": {},
   "source": [
    "### 1.3. Dataset visualization\n",
    "\n",
    "Let's have look to what the dataset looks like:"
   ]
  },
  {
   "cell_type": "code",
   "execution_count": 6,
   "metadata": {
    "ExecuteTime": {
     "end_time": "2018-07-25T09:46:19.291946Z",
     "start_time": "2018-07-25T09:46:19.271053Z"
    }
   },
   "outputs": [],
   "source": [
    "# To display without timezone shifting\n",
    "utc_index = pd.date_range(\"2017-01-01 00:00\", \n",
    "                          \"2017-12-31 23:00\", freq=\"h\") "
   ]
  },
  {
   "cell_type": "code",
   "execution_count": 7,
   "metadata": {
    "ExecuteTime": {
     "end_time": "2018-07-25T09:46:43.765628Z",
     "start_time": "2018-07-25T09:46:43.167080Z"
    }
   },
   "outputs": [
    {
     "data": {
      "image/png": "[encoded data removed]",
      "text/plain": [
       "<Figure size 1224x360 with 1 Axes>"
      ]
     },
     "metadata": {
      "needs_background": "light"
     },
     "output_type": "display_data"
    }
   ],
   "source": [
    "nb_records_to_display = 2*7*24 # display two weeks\n",
    "\n",
    "fig, ax = plt.subplots(figsize=FIGSIZE)\n",
    "\n",
    "for agent_id_col in selected_zones:\n",
    "    plt.plot(utc_index[:nb_records_to_display],\n",
    "            yellow[str(agent_id_col)].values[:nb_records_to_display],\n",
    "            label=\"Zone {:0>3}\".format(agent_id_col))\n",
    "    \n",
    "\n",
    "plt.title(\"Yellow - Zoom on first records\", fontdict=FONT)\n",
    "plt.xlabel(\"Time\", fontdict=FONT)\n",
    "plt.ylabel(\"#Clients\", fontdict=FONT)\n",
    "\n",
    "ax.set_frame_on(False)\n",
    "plt.grid(True)\n",
    "plt.legend(prop={\"size\": FONT[\"size\"]})\n",
    "plt.show()"
   ]
  },
  {
   "cell_type": "markdown",
   "metadata": {},
   "source": [
    "### 1.4. Creating `train`/`test` sets"
   ]
  },
  {
   "cell_type": "code",
   "execution_count": 8,
   "metadata": {
    "ExecuteTime": {
     "end_time": "2018-07-25T09:47:52.304906Z",
     "start_time": "2018-07-25T09:47:52.290023Z"
    }
   },
   "outputs": [],
   "source": [
    "start = pd.to_datetime(\"2017-12-04 00:00\")\n",
    "train = yellow[:start]\n",
    "test = yellow[start:pd.to_datetime(\"2017-12-17 23:00\")]"
   ]
  },
  {
   "cell_type": "markdown",
   "metadata": {},
   "source": [
    "## 2. Connect to craft ai api\n",
    "\n",
    "Open a link to the craft ai API by creating a `client` based on user's token. \n",
    "\n",
    "If you do not have a token yet, <a href='https://beta.craft.ai/inspector'>create a project</a> (on chrome) and past your `Write API token` in a file named `.env` like the following:\n",
    "```sh\n",
    " CRAFT_TOKEN=your-token\n",
    "```\n",
    "\n",
    "_This file should be at the root of your cloned project. You might have to rerun the `pipenv run notebook` after filling the `.env` file._"
   ]
  },
  {
   "cell_type": "code",
   "execution_count": 9,
   "metadata": {
    "ExecuteTime": {
     "end_time": "2018-07-25T09:48:34.082857Z",
     "start_time": "2018-07-25T09:48:34.075814Z"
    }
   },
   "outputs": [],
   "source": [
    "client = craft_ai.pandas.Client({\n",
    "  \"token\": os.environ.get(\"CRAFT_TOKEN\")\n",
    "})"
   ]
  },
  {
   "cell_type": "markdown",
   "metadata": {},
   "source": [
    "## 3. Setup Prediction\n",
    "\n",
    "In this work each taxi zone is computed by an Agent. In other words, Agent `taxi_zone_007` is supposed to learn from zone 7's historical records to predict potential taxi needs in this zone.\n",
    "\n",
    "### 3.1. Initiate Agents\n",
    "First we create a DataFrame `agents` that will store zone ids, alongside with our agent ids and all kind of results. "
   ]
  },
  {
   "cell_type": "code",
   "execution_count": 10,
   "metadata": {
    "ExecuteTime": {
     "end_time": "2018-07-25T09:49:28.201534Z",
     "start_time": "2018-07-25T09:49:28.179921Z"
    }
   },
   "outputs": [
    {
     "data": {
      "text/html": [
       "<div>\n",
       "<style scoped>\n",
       "    .dataframe tbody tr th:only-of-type {\n",
       "        vertical-align: middle;\n",
       "    }\n",
       "\n",
       "    .dataframe tbody tr th {\n",
       "        vertical-align: top;\n",
       "    }\n",
       "\n",
       "    .dataframe thead th {\n",
       "        text-align: right;\n",
       "    }\n",
       "</style>\n",
       "<table border=\"1\" class=\"dataframe\">\n",
       "  <thead>\n",
       "    <tr style=\"text-align: right;\">\n",
       "      <th></th>\n",
       "      <th>zone</th>\n",
       "      <th>agent_id</th>\n",
       "    </tr>\n",
       "  </thead>\n",
       "  <tbody>\n",
       "    <tr>\n",
       "      <th>0</th>\n",
       "      <td>7</td>\n",
       "      <td>taxi_zone_007</td>\n",
       "    </tr>\n",
       "    <tr>\n",
       "      <th>1</th>\n",
       "      <td>145</td>\n",
       "      <td>taxi_zone_145</td>\n",
       "    </tr>\n",
       "    <tr>\n",
       "      <th>2</th>\n",
       "      <td>146</td>\n",
       "      <td>taxi_zone_146</td>\n",
       "    </tr>\n",
       "    <tr>\n",
       "      <th>3</th>\n",
       "      <td>193</td>\n",
       "      <td>taxi_zone_193</td>\n",
       "    </tr>\n",
       "    <tr>\n",
       "      <th>4</th>\n",
       "      <td>226</td>\n",
       "      <td>taxi_zone_226</td>\n",
       "    </tr>\n",
       "  </tbody>\n",
       "</table>\n",
       "</div>"
      ],
      "text/plain": [
       "   zone       agent_id\n",
       "0     7  taxi_zone_007\n",
       "1   145  taxi_zone_145\n",
       "2   146  taxi_zone_146\n",
       "3   193  taxi_zone_193\n",
       "4   226  taxi_zone_226"
      ]
     },
     "execution_count": 10,
     "metadata": {},
     "output_type": "execute_result"
    }
   ],
   "source": [
    "agents = pd.DataFrame(\n",
    "    data={\n",
    "        \"zone\": selected_zones,\n",
    "        \"agent_id\": [\"taxi_zone_{:0>3}\".format(z) for z in selected_zones]\n",
    "    }\n",
    ")\n",
    "agents.head()"
   ]
  },
  {
   "cell_type": "markdown",
   "metadata": {},
   "source": [
    "It's now time to setup our agents' context. In this work the configuration context is shared by all agents. \n",
    "\n",
    "`CONFIGURATION` indicates to the API what are the inputs features and which feature(s) we want to predict."
   ]
  },
  {
   "cell_type": "code",
   "execution_count": 11,
   "metadata": {
    "ExecuteTime": {
     "end_time": "2018-07-25T09:52:24.588658Z",
     "start_time": "2018-07-25T09:52:24.574456Z"
    }
   },
   "outputs": [],
   "source": [
    "# CONFIGURATION is the same for all agents\n",
    "CONFIGURATION = {\n",
    "    \"context\": {\n",
    "        \"day_of_week\": {                # feature generated by the API from the DataFrame index \n",
    "            \"type\" : \"day_of_week\"\n",
    "        },\n",
    "        \"time\": {                       # feature generated by the API from the DataFrame index\n",
    "            \"type\": \"time_of_day\"\n",
    "        },\n",
    "        \"timezone\": {                   # timezone for trip_counter      \n",
    "            \"type\" : \"timezone\",        \n",
    "        },\n",
    "        \"trip_counter\": {               # taxi trips counter            \n",
    "            \"type\": \"continuous\"\n",
    "        }\n",
    "    },\n",
    "    \"output\": [\"trip_counter\"],         # the output is continuous\n",
    "    \"learning_period\": 31536000,         # 1 year: 365d * 24h * 3600s\n",
    "    \"tree_max_depth\": 10 \n",
    "}"
   ]
  },
  {
   "cell_type": "markdown",
   "metadata": {},
   "source": [
    "The following function `setup_agent` aims at creating an Agent on the API and to add the operations associated."
   ]
  },
  {
   "cell_type": "code",
   "execution_count": 12,
   "metadata": {
    "ExecuteTime": {
     "end_time": "2018-07-25T09:52:27.285632Z",
     "start_time": "2018-07-25T09:52:27.280890Z"
    }
   },
   "outputs": [],
   "source": [
    "def setup_agent(row):\n",
    "    \"\"\" Initiate Agent with the given id and \n",
    "        add the data associated with this zone\n",
    "    \"\"\"\n",
    "\n",
    "    # Delete older version of the agent\n",
    "    client.delete_agent(row.agent_id)\n",
    "\n",
    "    # Add the new agent\n",
    "    client.create_agent(CONFIGURATION, row.agent_id)\n",
    "\n",
    "    # Add operations\n",
    "    data = train[[\"timezone\", str(row.zone)]]\n",
    "    data.columns = [\"timezone\", \"trip_counter\"]\n",
    "    client.add_operations(row.agent_id, data)\n",
    "\n",
    "    return True"
   ]
  },
  {
   "cell_type": "code",
   "execution_count": 13,
   "metadata": {
    "ExecuteTime": {
     "end_time": "2018-07-25T09:52:45.260883Z",
     "start_time": "2018-07-25T09:52:28.344290Z"
    }
   },
   "outputs": [
    {
     "name": "stdout",
     "output_type": "stream",
     "text": [
      "CPU times: user 7.34 s, sys: 105 ms, total: 7.44 s\n",
      "Wall time: 24.2 s\n"
     ]
    }
   ],
   "source": [
    "%%time\n",
    "\n",
    "agents[\"setup\"] = agents.apply(setup_agent, axis=1)"
   ]
  },
  {
   "cell_type": "code",
   "execution_count": 14,
   "metadata": {
    "ExecuteTime": {
     "end_time": "2018-07-25T09:52:50.371871Z",
     "start_time": "2018-07-25T09:52:50.351549Z"
    }
   },
   "outputs": [
    {
     "data": {
      "text/html": [
       "<div>\n",
       "<style scoped>\n",
       "    .dataframe tbody tr th:only-of-type {\n",
       "        vertical-align: middle;\n",
       "    }\n",
       "\n",
       "    .dataframe tbody tr th {\n",
       "        vertical-align: top;\n",
       "    }\n",
       "\n",
       "    .dataframe thead th {\n",
       "        text-align: right;\n",
       "    }\n",
       "</style>\n",
       "<table border=\"1\" class=\"dataframe\">\n",
       "  <thead>\n",
       "    <tr style=\"text-align: right;\">\n",
       "      <th></th>\n",
       "      <th>zone</th>\n",
       "      <th>agent_id</th>\n",
       "      <th>setup</th>\n",
       "    </tr>\n",
       "  </thead>\n",
       "  <tbody>\n",
       "    <tr>\n",
       "      <th>0</th>\n",
       "      <td>7</td>\n",
       "      <td>taxi_zone_007</td>\n",
       "      <td>True</td>\n",
       "    </tr>\n",
       "    <tr>\n",
       "      <th>1</th>\n",
       "      <td>145</td>\n",
       "      <td>taxi_zone_145</td>\n",
       "      <td>True</td>\n",
       "    </tr>\n",
       "    <tr>\n",
       "      <th>2</th>\n",
       "      <td>146</td>\n",
       "      <td>taxi_zone_146</td>\n",
       "      <td>True</td>\n",
       "    </tr>\n",
       "    <tr>\n",
       "      <th>3</th>\n",
       "      <td>193</td>\n",
       "      <td>taxi_zone_193</td>\n",
       "      <td>True</td>\n",
       "    </tr>\n",
       "    <tr>\n",
       "      <th>4</th>\n",
       "      <td>226</td>\n",
       "      <td>taxi_zone_226</td>\n",
       "      <td>True</td>\n",
       "    </tr>\n",
       "  </tbody>\n",
       "</table>\n",
       "</div>"
      ],
      "text/plain": [
       "   zone       agent_id  setup\n",
       "0     7  taxi_zone_007   True\n",
       "1   145  taxi_zone_145   True\n",
       "2   146  taxi_zone_146   True\n",
       "3   193  taxi_zone_193   True\n",
       "4   226  taxi_zone_226   True"
      ]
     },
     "execution_count": 14,
     "metadata": {},
     "output_type": "execute_result"
    }
   ],
   "source": [
    "agents.head()"
   ]
  },
  {
   "cell_type": "markdown",
   "metadata": {},
   "source": [
    "### 3.2. Retrieve last decision tree\n",
    "\n",
    "Each Agent learns from its operations. Then we ask the API for the last Decision Tree.\n",
    "\n",
    "__This step is the most time consuming's one.__\n",
    "\n",
    "\n",
    "Firstly we choose a timestamp where we want to retrieve our model. In this notebook we want to retrieve the `train` set last decision tree:"
   ]
  },
  {
   "cell_type": "code",
   "execution_count": 15,
   "metadata": {
    "ExecuteTime": {
     "end_time": "2018-07-25T09:52:52.843820Z",
     "start_time": "2018-07-25T09:52:52.835741Z"
    }
   },
   "outputs": [],
   "source": [
    "TS = train.index.astype(np.int64).values[-1] // 10**9 #get last timestamp"
   ]
  },
  {
   "cell_type": "code",
   "execution_count": 16,
   "metadata": {
    "ExecuteTime": {
     "end_time": "2018-07-25T09:52:53.831289Z",
     "start_time": "2018-07-25T09:52:53.827991Z"
    }
   },
   "outputs": [],
   "source": [
    "# API request. The training starts when the user asks for the decision tree.\n",
    "get_DT = lambda agent_id : client.get_decision_tree(agent_id, timestamp=TS)"
   ]
  },
  {
   "cell_type": "code",
   "execution_count": 17,
   "metadata": {
    "ExecuteTime": {
     "end_time": "2018-07-25T09:55:18.876877Z",
     "start_time": "2018-07-25T09:52:56.717214Z"
    }
   },
   "outputs": [
    {
     "name": "stdout",
     "output_type": "stream",
     "text": [
      "CPU times: user 52.3 ms, sys: 10.6 ms, total: 62.9 ms\n",
      "Wall time: 3min 30s\n"
     ]
    }
   ],
   "source": [
    "%%time\n",
    "\n",
    "agents['decision_tree'] = agents.agent_id.apply(get_DT)"
   ]
  },
  {
   "cell_type": "code",
   "execution_count": 18,
   "metadata": {
    "ExecuteTime": {
     "end_time": "2018-07-25T09:55:29.609892Z",
     "start_time": "2018-07-25T09:55:29.525111Z"
    }
   },
   "outputs": [
    {
     "data": {
      "text/html": [
       "<div>\n",
       "<style scoped>\n",
       "    .dataframe tbody tr th:only-of-type {\n",
       "        vertical-align: middle;\n",
       "    }\n",
       "\n",
       "    .dataframe tbody tr th {\n",
       "        vertical-align: top;\n",
       "    }\n",
       "\n",
       "    .dataframe thead th {\n",
       "        text-align: right;\n",
       "    }\n",
       "</style>\n",
       "<table border=\"1\" class=\"dataframe\">\n",
       "  <thead>\n",
       "    <tr style=\"text-align: right;\">\n",
       "      <th></th>\n",
       "      <th>zone</th>\n",
       "      <th>agent_id</th>\n",
       "      <th>setup</th>\n",
       "      <th>decision_tree</th>\n",
       "    </tr>\n",
       "  </thead>\n",
       "  <tbody>\n",
       "    <tr>\n",
       "      <th>0</th>\n",
       "      <td>7</td>\n",
       "      <td>taxi_zone_007</td>\n",
       "      <td>True</td>\n",
       "      <td>{'_version': '2.0.0', 'trees': {'trip_counter'...</td>\n",
       "    </tr>\n",
       "    <tr>\n",
       "      <th>1</th>\n",
       "      <td>145</td>\n",
       "      <td>taxi_zone_145</td>\n",
       "      <td>True</td>\n",
       "      <td>{'_version': '2.0.0', 'trees': {'trip_counter'...</td>\n",
       "    </tr>\n",
       "    <tr>\n",
       "      <th>2</th>\n",
       "      <td>146</td>\n",
       "      <td>taxi_zone_146</td>\n",
       "      <td>True</td>\n",
       "      <td>{'_version': '2.0.0', 'trees': {'trip_counter'...</td>\n",
       "    </tr>\n",
       "    <tr>\n",
       "      <th>3</th>\n",
       "      <td>193</td>\n",
       "      <td>taxi_zone_193</td>\n",
       "      <td>True</td>\n",
       "      <td>{'_version': '2.0.0', 'trees': {'trip_counter'...</td>\n",
       "    </tr>\n",
       "    <tr>\n",
       "      <th>4</th>\n",
       "      <td>226</td>\n",
       "      <td>taxi_zone_226</td>\n",
       "      <td>True</td>\n",
       "      <td>{'_version': '2.0.0', 'trees': {'trip_counter'...</td>\n",
       "    </tr>\n",
       "  </tbody>\n",
       "</table>\n",
       "</div>"
      ],
      "text/plain": [
       "   zone       agent_id  setup  \\\n",
       "0     7  taxi_zone_007   True   \n",
       "1   145  taxi_zone_145   True   \n",
       "2   146  taxi_zone_146   True   \n",
       "3   193  taxi_zone_193   True   \n",
       "4   226  taxi_zone_226   True   \n",
       "\n",
       "                                       decision_tree  \n",
       "0  {'_version': '2.0.0', 'trees': {'trip_counter'...  \n",
       "1  {'_version': '2.0.0', 'trees': {'trip_counter'...  \n",
       "2  {'_version': '2.0.0', 'trees': {'trip_counter'...  \n",
       "3  {'_version': '2.0.0', 'trees': {'trip_counter'...  \n",
       "4  {'_version': '2.0.0', 'trees': {'trip_counter'...  "
      ]
     },
     "execution_count": 18,
     "metadata": {},
     "output_type": "execute_result"
    }
   ],
   "source": [
    "agents.head()"
   ]
  },
  {
   "cell_type": "markdown",
   "metadata": {},
   "source": [
    "## 4. Decision's time !\n",
    "\n",
    "Now that we have retrieved our models, we are able to predict the best place to find clients.\n"
   ]
  },
  {
   "cell_type": "markdown",
   "metadata": {},
   "source": [
    "### 4.1. Decision Dataframe setup\n",
    "\n",
    "First we setup the `DECISION_DF` where the prediction inputs are located. In this work `DECISION_DF` is quite simple: it's just an index with the `timezone` column. Indeed, columns `day_of_week` and `time` are computed by the API from the index.\n",
    "\n",
    "To evaluate the predictions we are testing our agents on the `test` set. So we are testing our agents on the last 13 days of the year 2017."
   ]
  },
  {
   "cell_type": "code",
   "execution_count": 19,
   "metadata": {
    "ExecuteTime": {
     "end_time": "2018-07-25T09:55:32.298545Z",
     "start_time": "2018-07-25T09:55:32.276690Z"
    }
   },
   "outputs": [],
   "source": [
    "# DECISION_DF is the same for all Agents as we want to compare taxi zones\n",
    "DECISION_DF = pd.DataFrame(index=test.index)\n",
    "DECISION_DF['timezone'] = DECISION_DF.index.strftime('%z')"
   ]
  },
  {
   "cell_type": "markdown",
   "metadata": {},
   "source": [
    "### 4.2. Make Decisions\n",
    "\n",
    "Ask each Agent to estimate the taxi need for their own `taxi_zone` thanks to the `DECISION_DF`."
   ]
  },
  {
   "cell_type": "code",
   "execution_count": 20,
   "metadata": {
    "ExecuteTime": {
     "end_time": "2018-07-25T09:55:34.341132Z",
     "start_time": "2018-07-25T09:55:34.336206Z"
    }
   },
   "outputs": [],
   "source": [
    "def decide(tree):\n",
    "    decision = client.decide_from_contexts_df(tree, DECISION_DF)\n",
    "    return pd.Series({ c: decision[c].values for c in decision.columns })"
   ]
  },
  {
   "cell_type": "code",
   "execution_count": 21,
   "metadata": {
    "ExecuteTime": {
     "end_time": "2018-07-25T09:56:21.538945Z",
     "start_time": "2018-07-25T09:56:17.917372Z"
    }
   },
   "outputs": [
    {
     "data": {
      "text/html": [
       "<div>\n",
       "<style scoped>\n",
       "    .dataframe tbody tr th:only-of-type {\n",
       "        vertical-align: middle;\n",
       "    }\n",
       "\n",
       "    .dataframe tbody tr th {\n",
       "        vertical-align: top;\n",
       "    }\n",
       "\n",
       "    .dataframe thead th {\n",
       "        text-align: right;\n",
       "    }\n",
       "</style>\n",
       "<table border=\"1\" class=\"dataframe\">\n",
       "  <thead>\n",
       "    <tr style=\"text-align: right;\">\n",
       "      <th></th>\n",
       "      <th>zone</th>\n",
       "      <th>agent_id</th>\n",
       "      <th>setup</th>\n",
       "      <th>decision_tree</th>\n",
       "      <th>trip_counter_predicted_value</th>\n",
       "      <th>trip_counter_confidence</th>\n",
       "      <th>trip_counter_decision_rules</th>\n",
       "      <th>trip_counter_nb_samples</th>\n",
       "      <th>trip_counter_decision_path</th>\n",
       "      <th>trip_counter_standard_deviation</th>\n",
       "      <th>trip_counter_min</th>\n",
       "      <th>trip_counter_max</th>\n",
       "    </tr>\n",
       "  </thead>\n",
       "  <tbody>\n",
       "    <tr>\n",
       "      <th>0</th>\n",
       "      <td>7</td>\n",
       "      <td>taxi_zone_007</td>\n",
       "      <td>True</td>\n",
       "      <td>{'_version': '2.0.0', 'trees': {'trip_counter'...</td>\n",
       "      <td>[23.096888, 33.56249, 41.12501, 32.835052, 18....</td>\n",
       "      <td>[0.8208492398262024, 0.787865936756134, 0.7695...</td>\n",
       "      <td>[[{'property': 'time', 'operator': '[in[', 'op...</td>\n",
       "      <td>[289, 288, 288, 582, 288, 288, 288, 288, 576, ...</td>\n",
       "      <td>[0-1-1-0-1-1-1-0-0, 0-1-1-1-0-0-1-0-0-0, 0-1-1...</td>\n",
       "      <td>[4.9438815, 8.889347, 12.127586, 11.098384, 6....</td>\n",
       "      <td>[15, 16, 18, 18, 9, 5, 6, 5, 4, 9, 6, 5, 5, 7,...</td>\n",
       "      <td>[36, 52, 72, 94, 47, 28, 24, 27, 37, 29, 24, 3...</td>\n",
       "    </tr>\n",
       "    <tr>\n",
       "      <th>1</th>\n",
       "      <td>145</td>\n",
       "      <td>taxi_zone_145</td>\n",
       "      <td>True</td>\n",
       "      <td>{'_version': '2.0.0', 'trees': {'trip_counter'...</td>\n",
       "      <td>[8.190315, 9.083334, 11.791664, 13.854168, 15....</td>\n",
       "      <td>[0.6991862654685974, 0.7018647193908691, 0.627...</td>\n",
       "      <td>[[{'property': 'time', 'operator': '[in[', 'op...</td>\n",
       "      <td>[289, 288, 288, 288, 576, 576, 1152, 1152, 115...</td>\n",
       "      <td>[0-1-1-0-1-0-0-1, 0-1-1-0-1-0-1-1, 0-1-1-1-1-0...</td>\n",
       "      <td>[3.4833593, 3.813601, 6.9341097, 7.191718, 9.0...</td>\n",
       "      <td>[3, 2, 3, 3, 4, 4, 4, 4, 4, 4, 4, 9, 6, 6, 6, ...</td>\n",
       "      <td>[20, 20, 37, 46, 67, 67, 52, 52, 52, 52, 31, 3...</td>\n",
       "    </tr>\n",
       "  </tbody>\n",
       "</table>\n",
       "</div>"
      ],
      "text/plain": [
       "   zone       agent_id  setup  \\\n",
       "0     7  taxi_zone_007   True   \n",
       "1   145  taxi_zone_145   True   \n",
       "\n",
       "                                       decision_tree  \\\n",
       "0  {'_version': '2.0.0', 'trees': {'trip_counter'...   \n",
       "1  {'_version': '2.0.0', 'trees': {'trip_counter'...   \n",
       "\n",
       "                        trip_counter_predicted_value  \\\n",
       "0  [23.096888, 33.56249, 41.12501, 32.835052, 18....   \n",
       "1  [8.190315, 9.083334, 11.791664, 13.854168, 15....   \n",
       "\n",
       "                             trip_counter_confidence  \\\n",
       "0  [0.8208492398262024, 0.787865936756134, 0.7695...   \n",
       "1  [0.6991862654685974, 0.7018647193908691, 0.627...   \n",
       "\n",
       "                         trip_counter_decision_rules  \\\n",
       "0  [[{'property': 'time', 'operator': '[in[', 'op...   \n",
       "1  [[{'property': 'time', 'operator': '[in[', 'op...   \n",
       "\n",
       "                             trip_counter_nb_samples  \\\n",
       "0  [289, 288, 288, 582, 288, 288, 288, 288, 576, ...   \n",
       "1  [289, 288, 288, 288, 576, 576, 1152, 1152, 115...   \n",
       "\n",
       "                          trip_counter_decision_path  \\\n",
       "0  [0-1-1-0-1-1-1-0-0, 0-1-1-1-0-0-1-0-0-0, 0-1-1...   \n",
       "1  [0-1-1-0-1-0-0-1, 0-1-1-0-1-0-1-1, 0-1-1-1-1-0...   \n",
       "\n",
       "                     trip_counter_standard_deviation  \\\n",
       "0  [4.9438815, 8.889347, 12.127586, 11.098384, 6....   \n",
       "1  [3.4833593, 3.813601, 6.9341097, 7.191718, 9.0...   \n",
       "\n",
       "                                    trip_counter_min  \\\n",
       "0  [15, 16, 18, 18, 9, 5, 6, 5, 4, 9, 6, 5, 5, 7,...   \n",
       "1  [3, 2, 3, 3, 4, 4, 4, 4, 4, 4, 4, 9, 6, 6, 6, ...   \n",
       "\n",
       "                                    trip_counter_max  \n",
       "0  [36, 52, 72, 94, 47, 28, 24, 27, 37, 29, 24, 3...  \n",
       "1  [20, 20, 37, 46, 67, 67, 52, 52, 52, 52, 31, 3...  "
      ]
     },
     "execution_count": 21,
     "metadata": {},
     "output_type": "execute_result"
    }
   ],
   "source": [
    "agents_with_decisions = agents.merge(\n",
    "    agents.decision_tree.apply(decide), \n",
    "    left_index=True, \n",
    "    right_index=True\n",
    ")\n",
    "\n",
    "agents_with_decisions.head(2)"
   ]
  },
  {
   "cell_type": "markdown",
   "metadata": {},
   "source": [
    "Each decision is explainable. You can analyse the tree directly in your <a href=\"https://integration.craft.ai/inspector/\">project's inspector</a> (on chrome), or your can print the decision rule that has led to the decision."
   ]
  },
  {
   "cell_type": "code",
   "execution_count": 24,
   "metadata": {
    "ExecuteTime": {
     "end_time": "2018-07-25T09:57:02.892758Z",
     "start_time": "2018-07-25T09:57:02.877517Z"
    }
   },
   "outputs": [
    {
     "name": "stdout",
     "output_type": "stream",
     "text": [
      "Agent taxi_zone_007 has predicted 23.1 clients in his zone,\n",
      "because  'time' in [0, 1[ and 'day_of_week' in [0, 1[\n"
     ]
    }
   ],
   "source": [
    "# decision to explain:\n",
    "agent_id_to_explain = 'taxi_zone_007'\n",
    "decision_idx_to_explain = 0\n",
    "\n",
    "line_to_explain = agents_with_decisions[agents_with_decisions.agent_id == agent_id_to_explain]\n",
    "\n",
    "decision =  line_to_explain.trip_counter_predicted_value.values[0][decision_idx_to_explain]\n",
    "        \n",
    "rule_to_explain = line_to_explain.trip_counter_decision_rules.values[0][decision_idx_to_explain]\n",
    "\n",
    "print('Agent {} has predicted {:0.4} clients in his zone,\\nbecause '\n",
    "      .format(agent_id_to_explain, decision),\n",
    "      craft_ai.format_decision_rules(\n",
    "          craft_ai.reduce_decision_rules(rule_to_explain)\n",
    "      ))"
   ]
  },
  {
   "cell_type": "markdown",
   "metadata": {},
   "source": [
    "### 4.3. Observe results"
   ]
  },
  {
   "cell_type": "code",
   "execution_count": 25,
   "metadata": {
    "ExecuteTime": {
     "end_time": "2018-07-25T09:57:04.253081Z",
     "start_time": "2018-07-25T09:57:04.247148Z"
    }
   },
   "outputs": [],
   "source": [
    "# To display without timezone shifting\n",
    "utc_test_index = pd.date_range('2017-12-04 00:00', \n",
    "                        \"2017-12-17 23:00\", freq=\"h\") "
   ]
  },
  {
   "cell_type": "markdown",
   "metadata": {},
   "source": [
    "Reformat results:"
   ]
  },
  {
   "cell_type": "code",
   "execution_count": 26,
   "metadata": {
    "ExecuteTime": {
     "end_time": "2018-07-25T09:57:05.824533Z",
     "start_time": "2018-07-25T09:57:05.765484Z"
    }
   },
   "outputs": [
    {
     "data": {
      "text/html": [
       "<div>\n",
       "<style scoped>\n",
       "    .dataframe tbody tr th:only-of-type {\n",
       "        vertical-align: middle;\n",
       "    }\n",
       "\n",
       "    .dataframe tbody tr th {\n",
       "        vertical-align: top;\n",
       "    }\n",
       "\n",
       "    .dataframe thead th {\n",
       "        text-align: right;\n",
       "    }\n",
       "</style>\n",
       "<table border=\"1\" class=\"dataframe\">\n",
       "  <thead>\n",
       "    <tr style=\"text-align: right;\">\n",
       "      <th></th>\n",
       "      <th>7</th>\n",
       "      <th>145</th>\n",
       "      <th>146</th>\n",
       "      <th>193</th>\n",
       "      <th>226</th>\n",
       "    </tr>\n",
       "    <tr>\n",
       "      <th>timestamp</th>\n",
       "      <th></th>\n",
       "      <th></th>\n",
       "      <th></th>\n",
       "      <th></th>\n",
       "      <th></th>\n",
       "    </tr>\n",
       "  </thead>\n",
       "  <tbody>\n",
       "    <tr>\n",
       "      <th>2017-12-04 00:00:00-05:00</th>\n",
       "      <td>23.096888</td>\n",
       "      <td>8.190315</td>\n",
       "      <td>12.197233</td>\n",
       "      <td>5.543253</td>\n",
       "      <td>25.476620</td>\n",
       "    </tr>\n",
       "    <tr>\n",
       "      <th>2017-12-04 01:00:00-05:00</th>\n",
       "      <td>33.562490</td>\n",
       "      <td>9.083334</td>\n",
       "      <td>12.312504</td>\n",
       "      <td>12.635417</td>\n",
       "      <td>39.916680</td>\n",
       "    </tr>\n",
       "    <tr>\n",
       "      <th>2017-12-04 02:00:00-05:00</th>\n",
       "      <td>41.125010</td>\n",
       "      <td>11.791664</td>\n",
       "      <td>14.031251</td>\n",
       "      <td>16.187498</td>\n",
       "      <td>47.833332</td>\n",
       "    </tr>\n",
       "    <tr>\n",
       "      <th>2017-12-04 03:00:00-05:00</th>\n",
       "      <td>32.835052</td>\n",
       "      <td>13.854168</td>\n",
       "      <td>18.104166</td>\n",
       "      <td>12.354170</td>\n",
       "      <td>42.145817</td>\n",
       "    </tr>\n",
       "    <tr>\n",
       "      <th>2017-12-04 04:00:00-05:00</th>\n",
       "      <td>18.979166</td>\n",
       "      <td>15.052089</td>\n",
       "      <td>13.270841</td>\n",
       "      <td>9.437499</td>\n",
       "      <td>20.895832</td>\n",
       "    </tr>\n",
       "  </tbody>\n",
       "</table>\n",
       "</div>"
      ],
      "text/plain": [
       "                                   7        145        146        193  \\\n",
       "timestamp                                                               \n",
       "2017-12-04 00:00:00-05:00  23.096888   8.190315  12.197233   5.543253   \n",
       "2017-12-04 01:00:00-05:00  33.562490   9.083334  12.312504  12.635417   \n",
       "2017-12-04 02:00:00-05:00  41.125010  11.791664  14.031251  16.187498   \n",
       "2017-12-04 03:00:00-05:00  32.835052  13.854168  18.104166  12.354170   \n",
       "2017-12-04 04:00:00-05:00  18.979166  15.052089  13.270841   9.437499   \n",
       "\n",
       "                                 226  \n",
       "timestamp                             \n",
       "2017-12-04 00:00:00-05:00  25.476620  \n",
       "2017-12-04 01:00:00-05:00  39.916680  \n",
       "2017-12-04 02:00:00-05:00  47.833332  \n",
       "2017-12-04 03:00:00-05:00  42.145817  \n",
       "2017-12-04 04:00:00-05:00  20.895832  "
      ]
     },
     "execution_count": 26,
     "metadata": {},
     "output_type": "execute_result"
    }
   ],
   "source": [
    "predictions = pd.DataFrame(\n",
    "                agents_with_decisions.trip_counter_predicted_value.tolist()\n",
    "              ).T\n",
    "predictions.columns = selected_zones_str\n",
    "predictions.index = test.index\n",
    "predictions.head()"
   ]
  },
  {
   "cell_type": "code",
   "execution_count": 27,
   "metadata": {
    "ExecuteTime": {
     "end_time": "2018-07-25T09:57:07.790898Z",
     "start_time": "2018-07-25T09:57:07.758457Z"
    }
   },
   "outputs": [],
   "source": [
    "# predictions' standard deviation\n",
    "stds = pd.DataFrame(\n",
    "                agents_with_decisions.trip_counter_standard_deviation.tolist()\n",
    "              ).T\n",
    "stds.columns = selected_zones_str\n",
    "stds.index = test.index"
   ]
  },
  {
   "cell_type": "markdown",
   "metadata": {},
   "source": [
    "Static visualization:"
   ]
  },
  {
   "cell_type": "code",
   "execution_count": null,
   "metadata": {},
   "outputs": [],
   "source": [
    "zone = \"7\"\n",
    "\n",
    "plot_zone_results(zone, utc_test_index, \n",
    "                    test, predictions, stds)"
   ]
  },
  {
   "cell_type": "markdown",
   "metadata": {},
   "source": [
    "To have a deeper analysis, please refer to `Benchmarks.ipynb`.\n",
    "\n",
    "```python\n",
    "#save results for benchmark analysis:\n",
    "predictions.to_csv(PATH + 'craftai.csv')\n",
    "stds.to_csv(PATH + 'craftai_std.csv')\n",
    "\n",
    "```"
   ]
  },
  {
   "cell_type": "markdown",
   "metadata": {},
   "source": [
    "## 5. Conclusion: Evaluate Best Taxi Zone \n",
    "\n",
    "Based on all Agents estimations, find the `taxi_zone` with the most persons looking for a taxi. "
   ]
  },
  {
   "cell_type": "code",
   "execution_count": null,
   "metadata": {
    "ExecuteTime": {
     "end_time": "2018-07-25T09:57:16.141880Z",
     "start_time": "2018-07-25T09:57:16.137922Z"
    }
   },
   "outputs": [],
   "source": [
    "def best_zone(row):\n",
    "    return agents.zone.values[np.argmax(row.values)]"
   ]
  },
  {
   "cell_type": "code",
   "execution_count": null,
   "metadata": {
    "ExecuteTime": {
     "end_time": "2018-07-25T09:57:18.696965Z",
     "start_time": "2018-07-25T09:57:18.631662Z"
    }
   },
   "outputs": [],
   "source": [
    "predictions['best_zone'] = predictions[selected_zones_str].apply(best_zone, axis=1)\n",
    "\n",
    "predictions.sample(10).sort_index()"
   ]
  },
  {
   "cell_type": "code",
   "execution_count": null,
   "metadata": {
    "ExecuteTime": {
     "end_time": "2018-07-25T09:57:20.474914Z",
     "start_time": "2018-07-25T09:57:20.452155Z"
    }
   },
   "outputs": [],
   "source": [
    "predictions[predictions['best_zone']==145].head()"
   ]
  },
  {
   "cell_type": "markdown",
   "metadata": {},
   "source": [
    "Let's have a look to the results:"
   ]
  },
  {
   "cell_type": "code",
   "execution_count": null,
   "metadata": {
    "ExecuteTime": {
     "end_time": "2018-07-25T09:57:38.981753Z",
     "start_time": "2018-07-25T09:57:38.414825Z"
    }
   },
   "outputs": [],
   "source": [
    "nb_hours_to_display = 24 # display the first day\n",
    "\n",
    "plot_text = {\n",
    "    'x_tick_labels': selected_zones,\n",
    "    'y_tick_labels': predictions.index[:nb_hours_to_display],\n",
    "    'title': 'Where are the clients ?',\n",
    "    'xlabel': 'Zone',\n",
    "    'ylabel': 'Time',\n",
    "    'cbar_label': '# Clients'\n",
    "}\n",
    "\n",
    "plot_matshow(predictions[selected_zones_str][:nb_hours_to_display], plot_text)"
   ]
  },
  {
   "cell_type": "code",
   "execution_count": null,
   "metadata": {
    "ExecuteTime": {
     "end_time": "2018-07-25T09:58:10.608975Z",
     "start_time": "2018-07-25T09:58:10.245324Z"
    }
   },
   "outputs": [],
   "source": [
    "hours = ['{:0>2}:00'.format(h) for h in range(24)]\n",
    "days = [str(d) for d in np.unique(predictions.index.dayofyear)]\n",
    "mat = predictions.best_zone.values.reshape((14,24)).T\n",
    "\n",
    "plot_text = {\n",
    "    'x_tick_labels': days,\n",
    "    'y_tick_labels': hours,\n",
    "    'title': 'Which is the best zone to find clients ?',\n",
    "    'xlabel': 'Day of the year',\n",
    "    'ylabel': 'Hour of the day',\n",
    "    'cbar_label': None\n",
    "}\n",
    "\n",
    "plot_matshow(mat, plot_text, selected_zones)"
   ]
  },
  {
   "cell_type": "markdown",
   "metadata": {},
   "source": [
    "Thanks for reading this notebook until the end! \n",
    "\n",
    " * If you want to work on more data you can check `Preprocessing.ipynb`.\n",
    " * To see the benchmarks it's with `Benchmarks.ipynb`."
   ]
  },
  {
   "cell_type": "code",
   "execution_count": null,
   "metadata": {},
   "outputs": [],
   "source": []
  }
 ],
 "metadata": {
  "kernelspec": {
   "display_name": "Python 3",
   "language": "python",
   "name": "python3"
  },
  "language_info": {
   "codemirror_mode": {
    "name": "ipython",
    "version": 3
   },
   "file_extension": ".py",
   "mimetype": "text/x-python",
   "name": "python",
   "nbconvert_exporter": "python",
   "pygments_lexer": "ipython3",
   "version": "3.7.4"
  }
 },
 "nbformat": 4,
 "nbformat_minor": 4
}
